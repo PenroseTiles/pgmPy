{
 "metadata": {
  "name": "ExampleBN"
 }, 
 "nbformat": 2, 
 "worksheets": [
  {
   "cells": [
    {
     "cell_type": "code", 
     "collapsed": false, 
     "input": [
      "import numpy as np", 
      "from Factor import *", 
      "from FactorOperations import *", 
      "from PGMcommon import *", 
      "import profile", 
      "from CliqueTree import *", 
      "from CliqueTreeOperations import *", 
      "\"\"\" Lets try and construct a basic Bayesian network based on the Student example given", 
      "in Koller and Friedman on pg. 53 (Figure 3.4)", 
      "", 
      "Made the Student network in samiam software <http://reasoning.cs.ucla.edu/samiam/help/>", 
      "saved the file to /Users/amit/software/pgmPy/Student.net.", 
      "", 
      "Read in matlab like so: studentBN=ConvertNetwork('/Users/amit/software/pgmPy/Student.net')", 
      "Then was able to create the Factor objects like so below:", 
      "\"\"\"", 
      "", 
      "D=Factor( [1], [2], [.6,.4],'Difficulty')", 
      "I=Factor( [5], [2], [.7,.3], 'Intelligence' )", 
      "G=Factor( [2, 5,1], [ 3, 2, 2], [.3,.4,.3,.9,.08,.02,.05,.25,.7,.5,.3,.2], 'Grade', )", 
      "S=Factor( [3,5], [2,2], [.95,.05,.2,.8], 'SAT')", 
      "L=Factor( [4,2], [2,3], [.1,.9,.4,.6,.99,.01], 'Letter' )", 
      "", 
      "INPUTS=[D,G,S,L,I] # list of Factors that comprise the Bayesian Network", 
      "                   # see StudentBN.jpg", 
      "", 
      "for f in INPUTS:", 
      "    print f", 
      "    ", 
      "print \"==========\"", 
      "clique_beliefs=ComputeExactMarginalsBP ( INPUTS)", 
      "for c in clique_beliefs:", 
      "    print c"
     ], 
     "language": "python", 
     "outputs": [
      {
       "output_type": "stream", 
       "stream": "stdout", 
       "text": [
        "name: Difficulty", 
        "var: 1", 
        "card: 2", 
        "val: 0.6 0.4", 
        "name: Grade", 
        "var: 2 5 1", 
        "card: 3 2 2", 
        "val: 0.3 0.4 0.3 0.9 0.08 0.02 0.05 0.25 0.7 0.5 0.3 0.2", 
        "name: SAT", 
        "var: 3 5", 
        "card: 2 2", 
        "val: 0.95 0.05 0.2 0.8", 
        "name: Letter", 
        "var: 4 2", 
        "card: 2 3", 
        "val: 0.1 0.9 0.4 0.6 0.99 0.01", 
        "name: Intelligence", 
        "var: 5", 
        "card: 2", 
        "val: 0.7 0.3", 
        "==========", 
        "name: None", 
        "var: 1", 
        "card: 2.0", 
        "val: 0.6 0.4"
       ]
      }, 
      {
       "output_type": "stream", 
       "stream": "stdout", 
       "text": [
        "", 
        "name: None", 
        "var: 2", 
        "card: 3.0", 
        "val: 0.362 0.2884 0.3496", 
        "name: None", 
        "var: 3", 
        "card: 2.0", 
        "val: 0.725 0.275", 
        "name: None", 
        "var: 4", 
        "card: 2.0", 
        "val: 0.497664 0.502336", 
        "name: None", 
        "var: 5", 
        "card: 2.0", 
        "val: 0.7 0.3"
       ]
      }, 
      {
       "output_type": "stream", 
       "stream": "stderr", 
       "text": [
        "A factor is empty!", 
        "A factor is empty!", 
        "A factor is empty!", 
        "A factor is empty!", 
        "A factor is empty!", 
        "FactorMarginalization:Error, resultant factor has empty scope..."
       ]
      }
     ], 
     "prompt_number": 1
    }, 
    {
     "cell_type": "code", 
     "collapsed": false, 
     "input": [
      "#ComputeMarginal returns a factor representing the marginal of a variable", 
      "", 
      "#compute marignal probability of variable 4, which is Letter (of recommendation) (weak or strong)", 
      "print ComputeMarginal( [4], INPUTS, [])"
     ], 
     "language": "python", 
     "outputs": [
      {
       "output_type": "stream", 
       "stream": "stdout", 
       "text": [
        "name: None", 
        "var: 4", 
        "card: 2.0", 
        "val: 0.52622 0.47378"
       ]
      }
     ], 
     "prompt_number": 2
    }, 
    {
     "cell_type": "code", 
     "collapsed": false, 
     "input": [
      "print ComputeMarginal ( [2], INPUTS, [] ) #compute the marginal probabilities of Grade (A, B,C)"
     ], 
     "language": "python", 
     "outputs": [
      {
       "output_type": "stream", 
       "stream": "stdout", 
       "text": [
        "name: None", 
        "var: 2", 
        "card: 3.0", 
        "val: 0.3325 0.2845 0.383"
       ]
      }
     ], 
     "prompt_number": 3
    }, 
    {
     "cell_type": "code", 
     "collapsed": false, 
     "input": [
      "print ComputeMarginal ( [3], INPUTS, [] ) #compute the marginal probability of SAT score (high, low)"
     ], 
     "language": "python", 
     "outputs": [
      {
       "output_type": "stream", 
       "stream": "stdout", 
       "text": [
        "name: None", 
        "var: 3", 
        "card: 2.0", 
        "val: 0.725 0.275"
       ]
      }
     ], 
     "prompt_number": 2
    }, 
    {
     "cell_type": "code", 
     "collapsed": false, 
     "input": [
      "", 
      "print ComputeMarginal ([5], INPUTS, [] )#compute marginal of Intelligence (smart, gifted)"
     ], 
     "language": "python", 
     "outputs": [
      {
       "output_type": "stream", 
       "stream": "stdout", 
       "text": [
        "name: None", 
        "var: 5", 
        "card: 2.0", 
        "val: 0.7 0.3"
       ]
      }
     ], 
     "prompt_number": 5
    }, 
    {
     "cell_type": "code", 
     "collapsed": false, 
     "input": [
      "print ComputeMarginal ( [1], INPUTS, [] )#compute marginal of Difficulty (easy, hard)"
     ], 
     "language": "python", 
     "outputs": [
      {
       "output_type": "stream", 
       "stream": "stdout", 
       "text": [
        "name: None", 
        "var: 1", 
        "card: 2.0", 
        "val: 0.5 0.5"
       ]
      }
     ], 
     "prompt_number": 6
    }, 
    {
     "cell_type": "code", 
     "collapsed": false, 
     "input": [
      "print ComputeMarginal ( [5], INPUTS, [] ) #compute the marginal for intelligence, given evidence "
     ], 
     "language": "python", 
     "outputs": [
      {
       "output_type": "stream", 
       "stream": "stdout", 
       "text": [
        "name: None", 
        "var: 5", 
        "card: 2.0", 
        "val: 0.7 0.3"
       ]
      }
     ], 
     "prompt_number": 4
    }, 
    {
     "cell_type": "code", 
     "collapsed": false, 
     "input": [
      "import numpy as np", 
      "from Factor import *", 
      "from FactorOperations import *", 
      "from PGMcommon import *", 
      "import profile", 
      "D=Factor( [1], [2], [.5,.5],'Difficulty')", 
      "I=Factor( [5], [2], [.7,.3], 'Intelligence' )", 
      "G=Factor( [2, 5,1], [ 3, 2, 2], [.3,.4,.3,.9,.08,.02,.05,.25,.7,.5,.3,.2], 'Grade', )", 
      "S=Factor( [3,5], [2,2], [.95,.05,.2,.8], 'SAT')", 
      "L=Factor( [4,2], [2,3], [.1,.9,.4,.6,.99,.01], 'Letter' )", 
      "", 
      "INPUTS=[D,G,S,L,I] # list of Factors that comprise the Bayesian Network", 
      "                   # see StudentBN.jpg", 
      "id=IdentityFactor( D)", 
      "print id", 
      "print \"--\"", 
      "print D", 
      "print \"--\"", 
      "print 'identity product: ', FactorProduct( id, D)", 
      "#D.getVal()", 
      "#id.getVal()"
     ], 
     "language": "python", 
     "outputs": [
      {
       "output_type": "stream", 
       "stream": "stdout", 
       "text": [
        "name: Difficulty_identity", 
        "var: 1", 
        "card: 2", 
        "val: 1.0 1.0", 
        "--", 
        "name: Difficulty", 
        "var: 1", 
        "card: 2", 
        "val: 0.5 0.5", 
        "--", 
        "identity product:  name: None", 
        "var: 1", 
        "card: 2.0", 
        "val: 0.5 0.5"
       ]
      }
     ], 
     "prompt_number": 2
    }, 
    {
     "cell_type": "code", 
     "collapsed": false, 
     "input": [
      "def SumProductVE ( Z, F ):", 
      "    \"\"\" sum-product variable elimination based on pseudocode algorithm 9.1 in Koller and Friedman", 
      "        We are giving a list of variables to eliminate in Z (in the order we want to ", 
      "        elimiinate them) and a list of factors F", 
      "        eliminate each one getting getting the marginal distribution of the last variable in the list", 
      "        Z. \"\"\"", 
      "    ", 
      "    for z in Z:", 
      "        F=SumProductEliminateVar(z, F)", 
      "    return reduce(lambda x, y: FactorProduct(x,y), F)", 
      "    ", 
      "def SumProductEliminateVar(z, factorList):", 
      "    \"\"\"z is a variable to eliminate", 
      "       pass in a list of factors", 
      "       ", 
      "       1. figure out which factor contain z in their variable scope", 
      "       2. figure out which factors don't contain z in their scope", 
      "       3. mulitply in all factors that have z", 
      "       4. sum out z (marginalize) and return new factor with variable z eliminated\"\"\"", 
      "    useFactors = []# list  of factors that contains the variable Z", 
      "    unusedFactors=[] #list of factors that don't contain variable Z", 
      "    scope = []", 
      "    ", 
      "    \"\"\"get a list containining the index in self.factorLlist of factors", 
      "       that contain the variable Z to be eliminated", 
      "       get the scope of variables from the factors that contain variable Z \"\"\"", 
      "    for fi in factorList:", 
      "        if z in fi.getVar().tolist():", 
      "            useFactors.append(fi)#the ith factor is being currently involved in elimination", 
      "            scope=list(set.union(set(scope), fi.getVar().tolist() ))", 
      "        else:", 
      "            unusedFactors.append( fi )", 
      "    ", 
      "    #for f in useFactors:", 
      "    #    print 'useFactor: ', f", 
      "    #print '==='", 
      "    #for f in  unusedFactors:", 
      "    #    print 'unusedFactor: ', f", 
      "    ", 
      "    psiFactor= ComputeJointDistribution ( useFactors )", 
      "    tauFactor=FactorMarginalization( psiFactor,[z] )", 
      "    ", 
      "    #print 'psiFactor: ', psiFactor", 
      "    #print 'tauFactor: ', tauFactor", 
      "    return unusedFactors + [ tauFactor ]", 
      "", 
      "", 
      "    "
     ], 
     "language": "python", 
     "outputs": [], 
     "prompt_number": 3
    }, 
    {
     "cell_type": "code", 
     "collapsed": false, 
     "input": [
      "#ELIMINATE=[3,5,1,4,2]", 
      "ELIMINATE=[3,5,1,2]", 
      "#X=SumProductVE(3, INPUTS)", 
      "print SumProductVE(ELIMINATE, INPUTS)", 
      "#print reduce(lambda x, y: FactorProduct(x,y), X)"
     ], 
     "language": "python", 
     "outputs": [
      {
       "output_type": "stream", 
       "stream": "stdout", 
       "text": [
        "name: None", 
        "var: 4", 
        "card: 2.0", 
        "val: 0.497664 0.502336"
       ]
      }
     ], 
     "prompt_number": 4
    }, 
    {
     "cell_type": "code", 
     "collapsed": true, 
     "input": [
      "def FactorMaxMarginalization( A, V ):", 
      "    \"\"\" computes the factor with the variables in V maxed out.", 
      "        The resulting factor will have all the variables in A minus", 
      "        those variables in V. Rather then summing out variables in V", 
      "        we take max rather than sum\"\"\"", 
      "    ", 
      "    B=Factor()", 
      "    #check for empy factor or variable list", 
      "    if len( A.getVar() ) == 0 or len(V) == 0:", 
      "        return A", 
      "    Bvar=np.setdiff1d( A.getVar(), V)", 
      "    mapB=isMember(Bvar, A.getVar())", 
      "    ", 
      "    if len(Bvar) == 0:", 
      "        sys.stderr.write(\"FactorMaxMarginalization: Error, resultant factor has empty scope...\\n\")", 
      "        return None", 
      "    #set the marginalized factor's variable scope and cardinality", 
      "    B.setVar( Bvar.tolist() )", 
      "    B.setCard( A.getCard()[mapB] )", 
      "    B.setVal( np.zeros(np.prod(B.getCard())).tolist() )", 
      "    ", 
      "    #compute some helper indices", 
      "    assignments=IndexToAssignment ( np.arange(np.prod(A.getCard()) ), A.getCard() )", 
      "    #indxB tells which values in A to sum together when marginalizing out the variable(s) in B", 
      "    indxB=AssignmentToIndex( assignments[:,mapB], B.getCard())-1", 
      "    ", 
      "    max_vals=accum(indxB, A.getVal(), np.max )", 
      "    B.setVal( max_vals.tolist() )", 
      "    ", 
      "    return B", 
      "    ", 
      "    "
     ], 
     "language": "python", 
     "outputs": [], 
     "prompt_number": 5
    }, 
    {
     "cell_type": "code", 
     "collapsed": true, 
     "input": [
      "A=Factor( [1], [2], [.4, .6],'A')", 
      "B=Factor([2,1], [2, 2], [.1,.55,.90,.45], 'B|A')"
     ], 
     "language": "python", 
     "outputs": [], 
     "prompt_number": 10
    }, 
    {
     "cell_type": "code", 
     "collapsed": false, 
     "input": [
      "print A", 
      "print B"
     ], 
     "language": "python", 
     "outputs": [
      {
       "output_type": "stream", 
       "stream": "stdout", 
       "text": [
        "name: A", 
        "var: 1", 
        "card: 2", 
        "val: 0.4 0.6", 
        "name: B|A", 
        "var: 2 1", 
        "card: 2 2", 
        "val: 0.1 0.55 0.9 0.45"
       ]
      }
     ], 
     "prompt_number": 11
    }, 
    {
     "cell_type": "code", 
     "collapsed": false, 
     "input": [
      "I=IndexToAssignment(np.arange(4), B.getCard() )"
     ], 
     "language": "python", 
     "outputs": [], 
     "prompt_number": 30
    }, 
    {
     "cell_type": "code", 
     "collapsed": false, 
     "input": [
      "AssignmentToIndex(I, B.getCard() )"
     ], 
     "language": "python", 
     "outputs": [
      {
       "output_type": "pyout", 
       "prompt_number": 31, 
       "text": [
        "array([[ 1.],", 
        "       [ 2.],", 
        "       [ 3.],", 
        "       [ 4.]])"
       ]
      }
     ], 
     "prompt_number": 31
    }, 
    {
     "cell_type": "code", 
     "collapsed": false, 
     "input": [
      "FactorMaxMarginalization( B,[2])"
     ], 
     "language": "python", 
     "outputs": [
      {
       "ename": "AttributeError", 
       "evalue": "'list' object has no attribute 'tolist'", 
       "output_type": "pyerr", 
       "traceback": [
        "\u001b[0;31m---------------------------------------------------------------------------\u001b[0m\n\u001b[0;31mAttributeError\u001b[0m                            Traceback (most recent call last)", 
        "\u001b[0;32m/Users/amit/software/pgmPy/PythonNotebooks/<ipython-input-32-731558077951>\u001b[0m in \u001b[0;36m<module>\u001b[0;34m()\u001b[0m\n\u001b[0;32m----> 1\u001b[0;31m \u001b[0mFactorMaxMarginalization\u001b[0m\u001b[0;34m(\u001b[0m \u001b[0mB\u001b[0m\u001b[0;34m,\u001b[0m\u001b[0;34m[\u001b[0m\u001b[0;36m2\u001b[0m\u001b[0;34m]\u001b[0m\u001b[0;34m)\u001b[0m\u001b[0;34m\u001b[0m\u001b[0m\n\u001b[0m", 
        "\u001b[0;32m/Users/amit/software/pgmPy/PythonNotebooks/<ipython-input-5-c9924192f312>\u001b[0m in \u001b[0;36mFactorMaxMarginalization\u001b[0;34m(A, V)\u001b[0m\n\u001b[1;32m     16\u001b[0m         \u001b[0;32mreturn\u001b[0m \u001b[0mNone\u001b[0m\u001b[0;34m\u001b[0m\u001b[0m\n\u001b[1;32m     17\u001b[0m     \u001b[0;31m#set the marginalized factor's variable scope and cardinality\u001b[0m\n\u001b[0;34m\u001b[0m\u001b[0m\n\u001b[0;32m---> 18\u001b[0;31m     \u001b[0mB\u001b[0m\u001b[0;34m.\u001b[0m\u001b[0msetVar\u001b[0m\u001b[0;34m(\u001b[0m \u001b[0mBvar\u001b[0m\u001b[0;34m.\u001b[0m\u001b[0mtolist\u001b[0m\u001b[0;34m(\u001b[0m\u001b[0;34m)\u001b[0m \u001b[0;34m)\u001b[0m\u001b[0;34m\u001b[0m\u001b[0m\n\u001b[0m\u001b[1;32m     19\u001b[0m     \u001b[0mB\u001b[0m\u001b[0;34m.\u001b[0m\u001b[0msetCard\u001b[0m\u001b[0;34m(\u001b[0m \u001b[0mA\u001b[0m\u001b[0;34m.\u001b[0m\u001b[0mgetCard\u001b[0m\u001b[0;34m(\u001b[0m\u001b[0;34m)\u001b[0m\u001b[0;34m[\u001b[0m\u001b[0mmapB\u001b[0m\u001b[0;34m]\u001b[0m \u001b[0;34m)\u001b[0m\u001b[0;34m\u001b[0m\u001b[0m\n\u001b[1;32m     20\u001b[0m     \u001b[0mB\u001b[0m\u001b[0;34m.\u001b[0m\u001b[0msetVal\u001b[0m\u001b[0;34m(\u001b[0m \u001b[0mnp\u001b[0m\u001b[0;34m.\u001b[0m\u001b[0mzeros\u001b[0m\u001b[0;34m(\u001b[0m\u001b[0mnp\u001b[0m\u001b[0;34m.\u001b[0m\u001b[0mprod\u001b[0m\u001b[0;34m(\u001b[0m\u001b[0mB\u001b[0m\u001b[0;34m.\u001b[0m\u001b[0mgetCard\u001b[0m\u001b[0;34m(\u001b[0m\u001b[0;34m)\u001b[0m\u001b[0;34m)\u001b[0m\u001b[0;34m)\u001b[0m\u001b[0;34m.\u001b[0m\u001b[0mtolist\u001b[0m\u001b[0;34m(\u001b[0m\u001b[0;34m)\u001b[0m \u001b[0;34m)\u001b[0m\u001b[0;34m\u001b[0m\u001b[0m\n", 
        "\u001b[0;31mAttributeError\u001b[0m: 'list' object has no attribute 'tolist'"
       ]
      }
     ], 
     "prompt_number": 32
    }, 
    {
     "cell_type": "code", 
     "collapsed": true, 
     "input": [], 
     "language": "python", 
     "outputs": []
    }
   ]
  }
 ]
}