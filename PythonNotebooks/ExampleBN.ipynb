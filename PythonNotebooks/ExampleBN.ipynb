{
 "metadata": {
  "name": "ExampleBN"
 }, 
 "nbformat": 2, 
 "worksheets": [
  {
   "cells": [
    {
     "cell_type": "code", 
     "collapsed": false, 
     "input": [
      "import numpy as np", 
      "from Factor import *", 
      "from FactorOperations import *", 
      "from PGMcommon import *", 
      "import profile", 
      "\"\"\" Lets try and construct a basic Bayesian network based on the Student example given", 
      "in Koller and Friedman on pg. 53 (Figure 3.4)", 
      "", 
      "Made the Student network in samiam software <http://reasoning.cs.ucla.edu/samiam/help/>", 
      "saved the file to /Users/amit/software/pgmPy/Student.net.", 
      "", 
      "Read in matlab like so: studentBN=ConvertNetwork('/Users/amit/software/pgmPy/Student.net')", 
      "Then was able to create the Factor objects like so below:", 
      "\"\"\"", 
      "", 
      "D=Factor( [1], [2], [.5,.5],'Difficulty')", 
      "I=Factor( [5], [2], [.7,.3], 'Intelligence' )", 
      "G=Factor( [2, 5,1], [ 3, 2, 2], [.3,.4,.3,.9,.08,.02,.05,.25,.7,.5,.3,.2], 'Grade', )", 
      "S=Factor( [3,5], [2,2], [.95,.05,.2,.8], 'SAT')", 
      "L=Factor( [4,2], [2,3], [.1,.9,.4,.6,.99,.01], 'Letter' )", 
      "", 
      "INPUTS=[D,G,S,L,I] # list of Factors that comprise the Bayesian Network", 
      "                   # see StudentBN.jpg", 
      "", 
      "for f in INPUTS:", 
      "    print f.getName()"
     ], 
     "language": "python", 
     "outputs": [
      {
       "output_type": "stream", 
       "stream": "stdout", 
       "text": [
        "Difficulty", 
        "Grade", 
        "SAT", 
        "Letter", 
        "Intelligence"
       ]
      }
     ], 
     "prompt_number": 1
    }, 
    {
     "cell_type": "code", 
     "collapsed": false, 
     "input": [
      "#ComputeMarginal returns a factor representing the marginal of a variable", 
      "", 
      "#compute marignal probability of variable 4, which is Letter (of recommendation) (weak or strong)", 
      "print ComputeMarginal( [4], INPUTS, [])"
     ], 
     "language": "python", 
     "outputs": [
      {
       "output_type": "stream", 
       "stream": "stdout", 
       "text": [
        "name: None", 
        "var: 4", 
        "card: 2.0", 
        "val: 0.52622 0.47378"
       ]
      }
     ], 
     "prompt_number": 2
    }, 
    {
     "cell_type": "code", 
     "collapsed": false, 
     "input": [
      "print ComputeMarginal ( [2], INPUTS, [] ) #compute the marginal probabilities of Grade (A, B,C)"
     ], 
     "language": "python", 
     "outputs": [
      {
       "output_type": "stream", 
       "stream": "stdout", 
       "text": [
        "name: None", 
        "var: 2", 
        "card: 3.0", 
        "val: 0.3325 0.2845 0.383"
       ]
      }
     ], 
     "prompt_number": 3
    }, 
    {
     "cell_type": "code", 
     "collapsed": false, 
     "input": [
      "print ComputeMarginal ( [3], INPUTS, [] ) #compute the marginal probability of SAT score (high, low)"
     ], 
     "language": "python", 
     "outputs": [
      {
       "output_type": "stream", 
       "stream": "stdout", 
       "text": [
        "name: None", 
        "var: 3", 
        "card: 2.0", 
        "val: 0.725 0.275"
       ]
      }
     ], 
     "prompt_number": 4
    }, 
    {
     "cell_type": "code", 
     "collapsed": false, 
     "input": [
      "", 
      "print ComputeMarginal ([5], INPUTS, [] )#compute marginal of Intelligence (smart, gifted)"
     ], 
     "language": "python", 
     "outputs": [
      {
       "output_type": "stream", 
       "stream": "stdout", 
       "text": [
        "name: None", 
        "var: 5", 
        "card: 2.0", 
        "val: 0.7 0.3"
       ]
      }
     ], 
     "prompt_number": 5
    }, 
    {
     "cell_type": "code", 
     "collapsed": false, 
     "input": [
      "print ComputeMarginal ( [1], INPUTS, [] )#compute marginal of Difficulty (easy, hard)"
     ], 
     "language": "python", 
     "outputs": [
      {
       "output_type": "stream", 
       "stream": "stdout", 
       "text": [
        "name: None", 
        "var: 1", 
        "card: 2.0", 
        "val: 0.5 0.5"
       ]
      }
     ], 
     "prompt_number": 6
    }, 
    {
     "cell_type": "code", 
     "collapsed": false, 
     "input": [
      "print ComputeMarginal ( [5], INPUTS, [2,3,1,2,3,2,4,1] ) #compute the marginal for intelligence, given evidence "
     ], 
     "language": "python", 
     "outputs": [
      {
       "output_type": "stream", 
       "stream": "stdout", 
       "text": [
        "name: None", 
        "var: 5", 
        "card: 2.0", 
        "val: 0.337931034483 0.662068965517"
       ]
      }
     ], 
     "prompt_number": 7
    }, 
    {
     "cell_type": "code", 
     "collapsed": false, 
     "input": [
      "profile.run('print ComputeMarginal ( [5], INPUTS, [2,3,1,2,3,2,4,1] ); print')"
     ], 
     "language": "python", 
     "outputs": [
      {
       "output_type": "stream", 
       "stream": "stdout", 
       "text": [
        "name: None", 
        "var: 5", 
        "card: 2.0", 
        "val: 0.337931034483 0.662068965517", 
        "", 
        "         1408 function calls (1396 primitive calls) in 0.022 seconds", 
        "", 
        "   Ordered by: standard name", 
        "", 
        "   ncalls  tottime  percall  cumtime  percall filename:lineno(function)", 
        "        8    0.000    0.000    0.000    0.000 :0(all)", 
        "       76    0.000    0.000    0.000    0.000 :0(append)", 
        "       18    0.000    0.000    0.000    0.000 :0(arange)", 
        "        8    0.000    0.000    0.000    0.000 :0(argsort)", 
        "      125    0.002    0.000    0.002    0.000 :0(array)", 
        "       12    0.000    0.000    0.000    0.000 :0(copy)", 
        "       27    0.000    0.000    0.000    0.000 :0(cumprod)", 
        "        3    0.000    0.000    0.000    0.000 :0(decode)", 
        "        2    0.000    0.000    0.000    0.000 :0(difference)", 
        "        2    0.000    0.000    0.000    0.000 :0(empty)", 
        "       20    0.000    0.000    0.000    0.000 :0(flatten)", 
        "       11    0.000    0.000    0.000    0.000 :0(getattr)", 
        "       18    0.000    0.000    0.000    0.000 :0(insert)", 
        "        4    0.000    0.000    0.000    0.000 :0(intersection)", 
        "       82    0.000    0.000    0.000    0.000 :0(isinstance)", 
        "        1    0.000    0.000    0.000    0.000 :0(item)", 
        "        4    0.000    0.000    0.000    0.000 :0(join)", 
        "      104    0.000    0.000    0.000    0.000 :0(len)", 
        "        3    0.000    0.000    0.000    0.000 :0(map)", 
        "       73    0.000    0.000    0.000    0.000 :0(max)", 
        "        3    0.000    0.000    0.000    0.000 :0(nl_langinfo)", 
        "       32    0.000    0.000    0.000    0.000 :0(prod)", 
        "       14    0.000    0.000    0.000    0.000 :0(range)", 
        "        1    0.000    0.000    0.012    0.012 :0(reduce)", 
        "       33    0.000    0.000    0.000    0.000 :0(repeat)", 
        "       60    0.001    0.000    0.001    0.000 :0(reshape)", 
        "        8    0.000    0.000    0.000    0.000 :0(searchsorted)", 
        "        9    0.000    0.000    0.000    0.000 :0(setlocale)", 
        "        1    0.000    0.000    0.000    0.000 :0(setprofile)", 
        "        1    0.000    0.000    0.000    0.000 :0(squeeze)", 
        "        9    0.000    0.000    0.000    0.000 :0(sum)", 
        "        8    0.000    0.000    0.000    0.000 :0(take)", 
        "        3    0.000    0.000    0.000    0.000 :0(time)", 
        "       79    0.000    0.000    0.000    0.000 :0(tolist)", 
        "        9    0.000    0.000    0.000    0.000 :0(transpose)", 
        "        5    0.000    0.000    0.000    0.000 :0(union)", 
        "        3    0.000    0.000    0.000    0.000 :0(utf_8_decode)", 
        "       12    0.000    0.000    0.001    0.000 :0(view)", 
        "       38    0.000    0.000    0.000    0.000 :0(where)", 
        "        3    0.000    0.000    0.000    0.000 :0(write)", 
        "        9    0.000    0.000    0.000    0.000 :0(zeros)", 
        "        1    0.000    0.000    0.021    0.021 <string>:1(<module>)", 
        "        1    0.000    0.000    0.000    0.000 Factor.py:12(__str__)", 
        "        5    0.000    0.000    0.000    0.000 Factor.py:19(setVar)", 
        "       56    0.000    0.000    0.000    0.000 Factor.py:22(getVar)", 
        "       15    0.000    0.000    0.000    0.000 Factor.py:25(setVal)", 
        "       23    0.000    0.000    0.000    0.000 Factor.py:28(getVal)", 
        "        5    0.000    0.000    0.000    0.000 Factor.py:31(setCard)", 
        "       61    0.000    0.000    0.000    0.000 Factor.py:34(getCard)", 
        "        5    0.000    0.000    0.000    0.000 Factor.py:6(__init__)", 
        "        4    0.002    0.001    0.012    0.003 FactorOperations.py:115(FactorProduct)", 
        "        1    0.000    0.000    0.003    0.003 FactorOperations.py:189(FactorMarginalization)", 
        "        1    0.001    0.001    0.005    0.005 FactorOperations.py:245(ObserveEvidence)", 
        "        1    0.000    0.000    0.012    0.012 FactorOperations.py:294(ComputeJointDistribution)", 
        "        9    0.001    0.000    0.004    0.000 FactorOperations.py:31(AssignmentToIndex)", 
        "        4    0.000    0.000    0.012    0.003 FactorOperations.py:314(<lambda>)", 
        "        1    0.000    0.000    0.021    0.021 FactorOperations.py:317(ComputeMarginal)", 
        "        9    0.001    0.000    0.006    0.001 FactorOperations.py:9(IndexToAssignment)", 
        "        8    0.000    0.000    0.001    0.000 PGMcommon.py:127(getIndex)", 
        "        1    0.001    0.001    0.002    0.002 PGMcommon.py:20(accum)", 
        "        9    0.001    0.000    0.001    0.000 PGMcommon.py:7(isMember)", 
        "        1    0.000    0.000    0.000    0.000 arrayprint.py:246(array2string)", 
        "       12    0.000    0.000    0.001    0.000 defmatrix.py:233(__new__)", 
        "    45/33    0.001    0.000    0.001    0.000 defmatrix.py:279(__array_finalize__)", 
        "       10    0.000    0.000    0.000    0.000 fromnumeric.py:107(reshape)", 
        "       10    0.000    0.000    0.000    0.000 fromnumeric.py:1211(shape)", 
        "        9    0.000    0.000    0.001    0.000 fromnumeric.py:1379(sum)", 
        "        1    0.000    0.000    0.000    0.000 fromnumeric.py:1774(amax)", 
        "       32    0.000    0.000    0.001    0.000 fromnumeric.py:1931(prod)", 
        "       27    0.000    0.000    0.001    0.000 fromnumeric.py:2012(cumprod)", 
        "       11    0.000    0.000    0.001    0.000 fromnumeric.py:32(_wrapit)", 
        "        8    0.000    0.000    0.000    0.000 fromnumeric.py:45(take)", 
        "        8    0.000    0.000    0.000    0.000 fromnumeric.py:598(argsort)", 
        "        8    0.000    0.000    0.000"
       ]
      }, 
      {
       "output_type": "stream", 
       "stream": "stdout", 
       "text": [
        "    0.000 fromnumeric.py:757(searchsorted)", 
        "        1    0.000    0.000    0.000    0.000 fromnumeric.py:871(squeeze)", 
        "        3    0.000    0.000    0.001    0.000 iostream.py:66(write)", 
        "        9    0.000    0.000    0.000    0.000 locale.py:524(setlocale)", 
        "        3    0.000    0.000    0.000    0.000 locale.py:568(getpreferredencoding)", 
        "        1    0.000    0.000    0.000    0.000 numeric.py:1345(array_str)", 
        "       13    0.000    0.000    0.000    0.000 numeric.py:167(asarray)", 
        "        1    0.000    0.000    0.000    0.000 numeric.py:237(asanyarray)", 
        "        1    0.000    0.000    0.022    0.022 profile:0(print ComputeMarginal ( [5], INPUTS, [2,3,1,2,3,2,4,1] ); print)", 
        "        0    0.000             0.000          profile:0(profiler)", 
        "        1    0.000    0.000    0.000    0.000 shape_base.py:123(apply_over_axes)", 
        "        1    0.000    0.000    0.000    0.000 shape_base.py:194(expand_dims)", 
        "        1    0.000    0.000    0.000    0.000 shape_base.py:6(atleast_1d)", 
        "       24    0.001    0.000    0.003    0.000 shape_base.py:766(tile)", 
        "        3    0.000    0.000    0.000    0.000 text.py:41(getdefaultencoding)", 
        "        3    0.000    0.000    0.000    0.000 utf_8.py:15(decode)"
       ]
      }
     ], 
     "prompt_number": 10
    }, 
    {
     "cell_type": "code", 
     "collapsed": false, 
     "input": [
      "#http://www.doughellmann.com/PyMOTW/profile/", 
      "#Performance analysis", 
      "#might be useful as you progress in implementing stuff", 
      "profile.run('print ComputeMarginal( [4], INPUTS, []); print')"
     ], 
     "language": "python", 
     "outputs": [
      {
       "output_type": "stream", 
       "stream": "stdout", 
       "text": [
        "name: None", 
        "var: 4", 
        "card: 2.0", 
        "val: 0.52622 0.47378", 
        "", 
        "         1160 function calls (1148 primitive calls) in 0.019 seconds", 
        "", 
        "   Ordered by: standard name", 
        "", 
        "   ncalls  tottime  percall  cumtime  percall filename:lineno(function)", 
        "        8    0.000    0.000    0.000    0.000 :0(all)", 
        "       76    0.000    0.000    0.000    0.000 :0(append)", 
        "       10    0.000    0.000    0.000    0.000 :0(arange)", 
        "        8    0.000    0.000    0.000    0.000 :0(argsort)", 
        "      105    0.002    0.000    0.002    0.000 :0(array)", 
        "       12    0.000    0.000    0.000    0.000 :0(copy)", 
        "       19    0.001    0.000    0.001    0.000 :0(cumprod)", 
        "        3    0.000    0.000    0.000    0.000 :0(decode)", 
        "        2    0.000    0.000    0.000    0.000 :0(difference)", 
        "        2    0.000    0.000    0.000    0.000 :0(empty)", 
        "       20    0.000    0.000    0.000    0.000 :0(flatten)", 
        "        7    0.000    0.000    0.000    0.000 :0(getattr)", 
        "       14    0.000    0.000    0.000    0.000 :0(insert)", 
        "        4    0.000    0.000    0.000    0.000 :0(intersection)", 
        "       82    0.000    0.000    0.000    0.000 :0(isinstance)", 
        "        1    0.000    0.000    0.000    0.000 :0(item)", 
        "        4    0.000    0.000    0.000    0.000 :0(join)", 
        "       72    0.000    0.000    0.000    0.000 :0(len)", 
        "        3    0.000    0.000    0.000    0.000 :0(map)", 
        "       49    0.000    0.000    0.000    0.000 :0(max)", 
        "        3    0.000    0.000    0.000    0.000 :0(nl_langinfo)", 
        "       20    0.000    0.000    0.000    0.000 :0(prod)", 
        "       14    0.000    0.000    0.000    0.000 :0(range)", 
        "        1    0.000    0.000    0.014    0.014 :0(reduce)", 
        "       21    0.000    0.000    0.000    0.000 :0(repeat)", 
        "       40    0.000    0.000    0.000    0.000 :0(reshape)", 
        "        8    0.000    0.000    0.000    0.000 :0(searchsorted)", 
        "        9    0.000    0.000    0.000    0.000 :0(setlocale)", 
        "        1    0.000    0.000    0.000    0.000 :0(setprofile)", 
        "        1    0.000    0.000    0.000    0.000 :0(squeeze)", 
        "        9    0.000    0.000    0.000    0.000 :0(sum)", 
        "        8    0.000    0.000    0.000    0.000 :0(take)", 
        "        3    0.000    0.000    0.000    0.000 :0(time)", 
        "       63    0.000    0.000    0.000    0.000 :0(tolist)", 
        "        9    0.000    0.000    0.000    0.000 :0(transpose)", 
        "        5    0.000    0.000    0.000    0.000 :0(union)", 
        "        3    0.000    0.000    0.000    0.000 :0(utf_8_decode)", 
        "       12    0.000    0.000    0.001    0.000 :0(view)", 
        "       26    0.000    0.000    0.000    0.000 :0(where)", 
        "        3    0.000    0.000    0.000    0.000 :0(write)", 
        "        9    0.000    0.000    0.000    0.000 :0(zeros)", 
        "        1    0.000    0.000    0.018    0.018 <string>:1(<module>)", 
        "        1    0.000    0.000    0.000    0.000 Factor.py:12(__str__)", 
        "        5    0.000    0.000    0.000    0.000 Factor.py:19(setVar)", 
        "       52    0.000    0.000    0.000    0.000 Factor.py:22(getVar)", 
        "       11    0.000    0.000    0.000    0.000 Factor.py:25(setVal)", 
        "       11    0.000    0.000    0.000    0.000 Factor.py:28(getVal)", 
        "        5    0.000    0.000    0.000    0.000 Factor.py:31(setCard)", 
        "       49    0.000    0.000    0.000    0.000 Factor.py:34(getCard)", 
        "        5    0.000    0.000    0.000    0.000 Factor.py:6(__init__)", 
        "        4    0.002    0.001    0.014    0.003 FactorOperations.py:115(FactorProduct)", 
        "        1    0.000    0.000    0.003    0.003 FactorOperations.py:189(FactorMarginalization)", 
        "        1    0.000    0.000    0.000    0.000 FactorOperations.py:245(ObserveEvidence)", 
        "        1    0.000    0.000    0.014    0.014 FactorOperations.py:294(ComputeJointDistribution)", 
        "        9    0.001    0.000    0.005    0.001 FactorOperations.py:31(AssignmentToIndex)", 
        "        4    0.000    0.000    0.014    0.003 FactorOperations.py:314(<lambda>)", 
        "        1    0.000    0.000    0.018    0.018 FactorOperations.py:317(ComputeMarginal)", 
        "        5    0.001    0.000    0.003    0.001 FactorOperations.py:9(IndexToAssignment)", 
        "        8    0.000    0.000    0.001    0.000 PGMcommon.py:127(getIndex)", 
        "        1    0.001    0.001    0.001    0.001 PGMcommon.py:20(accum)", 
        "        9    0.001    0.000    0.001    0.000 PGMcommon.py:7(isMember)", 
        "        1    0.000    0.000    0.000    0.000 arrayprint.py:246(array2string)", 
        "       12    0.000    0.000    0.001    0.000 defmatrix.py:233(__new__)", 
        "    45/33    0.001    0.000    0.001    0.000 defmatrix.py:279(__array_finalize__)", 
        "        6    0.000    0.000    0.000    0.000 fromnumeric.py:107(reshape)", 
        "       10    0.000    0.000    0.000    0.000 fromnumeric.py:1211(shape)", 
        "        9    0.000    0.000    0.001    0.000 fromnumeric.py:1379(sum)", 
        "        1    0.000    0.000    0.000    0.000 fromnumeric.py:1774(amax)", 
        "       20    0.000    0.000    0.000    0.000 fromnumeric.py:1931(prod)", 
        "       19    0.000    0.000    0.002    0.000 fromnumeric.py:2012(cumprod)", 
        "        7    0.000    0.000    0.001    0.000 fromnumeric.py:32(_wrapit)", 
        "        8    0.000    0.000    0.000    0.000 fromnumeric.py:45(take)", 
        "        8    0.000    0.000    0.000    0.000 fromnumeric.py:598(argsort)", 
        "        8    0.000    0.000    0.000    0.000 fromnumeric.py:757(searchsorted)", 
        "        1    0.000    0.000    0.000    0.000 fromnumeric.py:871(squeeze)", 
        "        3    0.000    0.000    0.001    0.000 iostream.py:66(write)", 
        "        9    0.000    0.000    0.000    0.000 locale.py:524(setlocale)", 
        "        3    0.000    0.000    0.000    0.000 locale.py:568(getpreferredencoding)", 
        "        1    0.000    0.000    0.000    0.000 numeric.py:1345(array_str)", 
        "        9    0.000    0.000    0.000    0.000 numeric.py:167(asarray)", 
        "        1    0.000    0.000    0.000"
       ]
      }, 
      {
       "output_type": "stream", 
       "stream": "stdout", 
       "text": [
        "    0.000 numeric.py:237(asanyarray)", 
        "        1    0.000    0.000    0.019    0.019 profile:0(print ComputeMarginal( [4], INPUTS, []); print)", 
        "        0    0.000             0.000          profile:0(profiler)", 
        "        1    0.000    0.000    0.000    0.000 shape_base.py:123(apply_over_axes)", 
        "        1    0.000    0.000    0.000    0.000 shape_base.py:194(expand_dims)", 
        "        1    0.000    0.000    0.000    0.000 shape_base.py:6(atleast_1d)", 
        "       16    0.001    0.000    0.002    0.000 shape_base.py:766(tile)", 
        "        3    0.000    0.000    0.000    0.000 text.py:41(getdefaultencoding)", 
        "        3    0.000    0.000    0.000    0.000 utf_8.py:15(decode)"
       ]
      }
     ], 
     "prompt_number": 11
    }, 
    {
     "cell_type": "code", 
     "collapsed": false, 
     "input": [
      "id= IdentityFactor(D)", 
      "FactorProduct(D,id)"
     ], 
     "language": "python", 
     "outputs": [
      {
       "ename": "IndexError", 
       "evalue": "index 1 out of bounds 0<=index<1", 
       "output_type": "pyerr", 
       "traceback": [
        "\u001b[0;31m---------------------------------------------------------------------------\u001b[0m\n\u001b[0;31mIndexError\u001b[0m                                Traceback (most recent call last)", 
        "\u001b[0;32m/Users/amit/software/pgmPy/PythonNotebooks/<ipython-input-4-49a3fc820045>\u001b[0m in \u001b[0;36m<module>\u001b[0;34m()\u001b[0m\n\u001b[1;32m      1\u001b[0m \u001b[0mid\u001b[0m\u001b[0;34m=\u001b[0m \u001b[0mIdentityFactor\u001b[0m\u001b[0;34m(\u001b[0m\u001b[0mD\u001b[0m\u001b[0;34m)\u001b[0m\u001b[0;34m\u001b[0m\u001b[0m\n\u001b[0;32m----> 2\u001b[0;31m \u001b[0mFactorProduct\u001b[0m\u001b[0;34m(\u001b[0m\u001b[0mD\u001b[0m\u001b[0;34m,\u001b[0m\u001b[0mid\u001b[0m\u001b[0;34m)\u001b[0m\u001b[0;34m\u001b[0m\u001b[0m\n\u001b[0m", 
        "\u001b[0;32m/Users/amit/software/pgmPy/FactorOperations.py\u001b[0m in \u001b[0;36mFactorProduct\u001b[0;34m(A, B)\u001b[0m\n\u001b[1;32m    182\u001b[0m     \u001b[0mindxB\u001b[0m\u001b[0;34m=\u001b[0m\u001b[0mAssignmentToIndex\u001b[0m\u001b[0;34m(\u001b[0m  \u001b[0massignments\u001b[0m\u001b[0;34m[\u001b[0m\u001b[0;34m:\u001b[0m\u001b[0;34m,\u001b[0m\u001b[0mmapB\u001b[0m\u001b[0;34m]\u001b[0m\u001b[0;34m,\u001b[0m \u001b[0mB\u001b[0m\u001b[0;34m.\u001b[0m\u001b[0mgetCard\u001b[0m\u001b[0;34m(\u001b[0m\u001b[0;34m)\u001b[0m\u001b[0;34m)\u001b[0m\u001b[0;34m-\u001b[0m\u001b[0;36m1\u001b[0m \u001b[0;31m# re-arange the assignment of C to what it would be in  factorB\u001b[0m\u001b[0;34m\u001b[0m\u001b[0m\n\u001b[1;32m    183\u001b[0m \u001b[0;34m\u001b[0m\u001b[0m\n\u001b[0;32m--> 184\u001b[0;31m     \u001b[0mc_val\u001b[0m\u001b[0;34m=\u001b[0m\u001b[0mA\u001b[0m\u001b[0;34m.\u001b[0m\u001b[0mgetVal\u001b[0m\u001b[0;34m(\u001b[0m\u001b[0;34m)\u001b[0m\u001b[0;34m[\u001b[0m\u001b[0mindxA\u001b[0m\u001b[0;34m.\u001b[0m\u001b[0mflatten\u001b[0m\u001b[0;34m(\u001b[0m\u001b[0;34m)\u001b[0m\u001b[0;34m.\u001b[0m\u001b[0mtolist\u001b[0m\u001b[0;34m(\u001b[0m\u001b[0;34m)\u001b[0m\u001b[0;34m]\u001b[0m \u001b[0;34m*\u001b[0m \u001b[0mB\u001b[0m\u001b[0;34m.\u001b[0m\u001b[0mgetVal\u001b[0m\u001b[0;34m(\u001b[0m\u001b[0;34m)\u001b[0m\u001b[0;34m[\u001b[0m\u001b[0mindxB\u001b[0m\u001b[0;34m.\u001b[0m\u001b[0mflatten\u001b[0m\u001b[0;34m(\u001b[0m\u001b[0;34m)\u001b[0m\u001b[0;34m.\u001b[0m\u001b[0mtolist\u001b[0m\u001b[0;34m(\u001b[0m\u001b[0;34m)\u001b[0m\u001b[0;34m]\u001b[0m \u001b[0;31m#now that we have the index into A.val and B.val vector, multiply them to factor product\u001b[0m\u001b[0;34m\u001b[0m\u001b[0m\n\u001b[0m\u001b[1;32m    185\u001b[0m     \u001b[0mC\u001b[0m\u001b[0;34m.\u001b[0m\u001b[0msetVal\u001b[0m \u001b[0;34m(\u001b[0m \u001b[0mc_val\u001b[0m\u001b[0;34m.\u001b[0m\u001b[0mtolist\u001b[0m\u001b[0;34m(\u001b[0m\u001b[0;34m)\u001b[0m \u001b[0;34m)\u001b[0m\u001b[0;34m\u001b[0m\u001b[0m\n\u001b[1;32m    186\u001b[0m \u001b[0;34m\u001b[0m\u001b[0m\n", 
        "\u001b[0;31mIndexError\u001b[0m: index 1 out of bounds 0<=index<1"
       ]
      }
     ], 
     "prompt_number": 4
    }, 
    {
     "cell_type": "code", 
     "collapsed": false, 
     "input": [
      "import numpy as np", 
      "from Factor import *", 
      "from FactorOperations import *", 
      "from PGMcommon import *", 
      "import profile", 
      "D=Factor( [1], [2], [.5,.5],'Difficulty')", 
      "I=Factor( [5], [2], [.7,.3], 'Intelligence' )", 
      "G=Factor( [2, 5,1], [ 3, 2, 2], [.3,.4,.3,.9,.08,.02,.05,.25,.7,.5,.3,.2], 'Grade', )", 
      "S=Factor( [3,5], [2,2], [.95,.05,.2,.8], 'SAT')", 
      "L=Factor( [4,2], [2,3], [.1,.9,.4,.6,.99,.01], 'Letter' )", 
      "", 
      "INPUTS=[D,G,S,L,I] # list of Factors that comprise the Bayesian Network", 
      "                   # see StudentBN.jpg", 
      "id=IdentityFactor( D)", 
      "print id", 
      "print \"--\"", 
      "print D", 
      "print \"--\"", 
      "print 'identity product: ', FactorProduct( id, D)", 
      "#D.getVal()", 
      "#id.getVal()"
     ], 
     "language": "python", 
     "outputs": [
      {
       "output_type": "stream", 
       "stream": "stdout", 
       "text": [
        "name: Difficulty_identity", 
        "var: 1", 
        "card: 2", 
        "val: 1.0 1.0", 
        "--", 
        "name: Difficulty", 
        "var: 1", 
        "card: 2", 
        "val: 0.5 0.5", 
        "--", 
        "identity product:  name: None", 
        "var: 1", 
        "card: 2.0", 
        "val: 0.5 0.5"
       ]
      }
     ], 
     "prompt_number": 2
    }, 
    {
     "cell_type": "code", 
     "collapsed": true, 
     "input": [], 
     "language": "python", 
     "outputs": []
    }
   ]
  }
 ]
}