{
 "metadata": {
  "name": "debugging"
 }, 
 "nbformat": 2, 
 "worksheets": [
  {
   "cells": [
    {
     "cell_type": "code", 
     "collapsed": false, 
     "input": [
      "import numpy as np", 
      "", 
      "#see this on NumPy and broadcasting", 
      "#http://onlamp.com/pub/a/python/2000/09/27/numerically.html?page=1", 
      "", 
      "a = np.array([[1,2,3],[4,5,6]])", 
      "b = np.array( [[1,2], [3,4], [5,6]])", 
      "print a", 
      "print b", 
      "print np.shape(a)", 
      "print np.shape(b)", 
      "a+b", 
      ""
     ], 
     "language": "python", 
     "outputs": [
      {
       "ename": "ValueError", 
       "evalue": "operands could not be broadcast together with shapes (2,3) (3,2) ", 
       "output_type": "pyerr", 
       "traceback": [
        "\u001b[0;31m---------------------------------------------------------------------------\u001b[0m\n\u001b[0;31mValueError\u001b[0m                                Traceback (most recent call last)", 
        "\u001b[0;32m/Users/amit/software/pgmPy/<ipython-input-2-29fbccd8bef0>\u001b[0m in \u001b[0;36m<module>\u001b[0;34m()\u001b[0m\n\u001b[1;32m     10\u001b[0m \u001b[0;32mprint\u001b[0m \u001b[0mnp\u001b[0m\u001b[0;34m.\u001b[0m\u001b[0mshape\u001b[0m\u001b[0;34m(\u001b[0m\u001b[0ma\u001b[0m\u001b[0;34m)\u001b[0m\u001b[0;34m\u001b[0m\u001b[0m\n\u001b[1;32m     11\u001b[0m \u001b[0;32mprint\u001b[0m \u001b[0mnp\u001b[0m\u001b[0;34m.\u001b[0m\u001b[0mshape\u001b[0m\u001b[0;34m(\u001b[0m\u001b[0mb\u001b[0m\u001b[0;34m)\u001b[0m\u001b[0;34m\u001b[0m\u001b[0m\n\u001b[0;32m---> 12\u001b[0;31m \u001b[0ma\u001b[0m\u001b[0;34m+\u001b[0m\u001b[0mb\u001b[0m\u001b[0;34m\u001b[0m\u001b[0m\n\u001b[0m\u001b[1;32m     13\u001b[0m \u001b[0;34m\u001b[0m\u001b[0m\n\u001b[1;32m     14\u001b[0m \u001b[0;34m\u001b[0m\u001b[0m\n", 
        "\u001b[0;31mValueError\u001b[0m: operands could not be broadcast together with shapes (2,3) (3,2) "
       ]
      }, 
      {
       "output_type": "stream", 
       "stream": "stdout", 
       "text": [
        "[[1 2 3]", 
        " [4 5 6]]", 
        "[[1 2]", 
        " [3 4]", 
        " [5 6]]", 
        "(2, 3)", 
        "(3, 2)"
       ]
      }
     ], 
     "prompt_number": 2
    }, 
    {
     "cell_type": "code", 
     "collapsed": false, 
     "input": [
      "intersect= np.array( [1,5] )", 
      "B= np.array( [2,5,1] )", 
      "#other_array[first_array == item]", 
      "intersect - B"
     ], 
     "language": "python", 
     "outputs": [
      {
       "ename": "ValueError", 
       "evalue": "operands could not be broadcast together with shapes (2) (3) ", 
       "output_type": "pyerr", 
       "traceback": [
        "\u001b[0;31m---------------------------------------------------------------------------\u001b[0m\n\u001b[0;31mValueError\u001b[0m                                Traceback (most recent call last)", 
        "\u001b[0;32m/Users/amit/software/pgmPy/<ipython-input-16-d257c35b5146>\u001b[0m in \u001b[0;36m<module>\u001b[0;34m()\u001b[0m\n\u001b[1;32m      2\u001b[0m \u001b[0mB\u001b[0m\u001b[0;34m=\u001b[0m \u001b[0mnp\u001b[0m\u001b[0;34m.\u001b[0m\u001b[0marray\u001b[0m\u001b[0;34m(\u001b[0m \u001b[0;34m[\u001b[0m\u001b[0;36m2\u001b[0m\u001b[0;34m,\u001b[0m\u001b[0;36m5\u001b[0m\u001b[0;34m,\u001b[0m\u001b[0;36m1\u001b[0m\u001b[0;34m]\u001b[0m \u001b[0;34m)\u001b[0m\u001b[0;34m\u001b[0m\u001b[0m\n\u001b[1;32m      3\u001b[0m \u001b[0;34m\u001b[0m\u001b[0m\n\u001b[0;32m----> 4\u001b[0;31m \u001b[0mintersect\u001b[0m \u001b[0;34m-\u001b[0m \u001b[0mB\u001b[0m\u001b[0;34m\u001b[0m\u001b[0m\n\u001b[0m", 
        "\u001b[0;31mValueError\u001b[0m: operands could not be broadcast together with shapes (2) (3) "
       ]
      }
     ], 
     "prompt_number": 16
    }, 
    {
     "cell_type": "code", 
     "collapsed": false, 
     "input": [
      "B[intersect == x for x in ]"
     ], 
     "language": "python", 
     "outputs": [
      {
       "output_type": "pyout", 
       "prompt_number": 17, 
       "text": [
        "array([2])"
       ]
      }
     ], 
     "prompt_number": 17
    }, 
    {
     "cell_type": "code", 
     "collapsed": false, 
     "input": [
      "x=np.arange(10)", 
      "np.random.shuffle(x)", 
      "y=np.arange(5)", 
      "", 
      "xsorted=np.argsort(x)#return the indices that would sort the array", 
      "print \"x: \", x", 
      "print \"y: \", y", 
      "print \"x[xsorted] \", x[xsorted]", 
      "ypos=np.searchsorted(x[xsorted],y)", 
      "print ypos", 
      "indices=xsorted[ypos]", 
      "print \"indices of y elements in x: \", indices", 
      "#print ", 
      "#print y"
     ], 
     "language": "python", 
     "outputs": [
      {
       "output_type": "stream", 
       "stream": "stdout", 
       "text": [
        "x:  [8 0 2 9 5 4 6 1 7 3]", 
        "y:  [0 1 2 3 4]", 
        "x[xsorted]  [0 1 2 3 4 5 6 7 8 9]", 
        "[0 1 2 3 4]", 
        "indices of y elements in x:  [1 7 2 9 5]"
       ]
      }
     ], 
     "prompt_number": 43
    }, 
    {
     "cell_type": "code", 
     "collapsed": false, 
     "input": [
      "#see this http://stackoverflow.com/questions/8251541/numpy-for-every-element-in-one-array-find-the-index-in-another-array", 
      "import numpy as np", 
      "intersect=np.array( [1,5])", 
      "B=np.array([2,5,1])", 
      "", 
      "sortedintersect=np.argsort(intersect)#return the indices that would sort the array", 
      "bpos=np.searchsorted(intersect[sortedintersect],B)", 
      "", 
      "yindex=np.take(sortedintersect, bpos, mode='clip')", 
      "print \"yindex: \", yindex", 
      "mask=intersect[yindex] !=B", 
      "print \"mask: \", mask", 
      "", 
      "result=np.ma.array(yindex,mask=mask)", 
      "print 'masked array: ', result", 
      "print result.compressed()"
     ], 
     "language": "python", 
     "outputs": [
      {
       "output_type": "stream", 
       "stream": "stdout", 
       "text": [
        "yindex:  [1 1 0]", 
        "mask:  [ True False False]", 
        "masked array:  [-- 1 0]", 
        "[1 0]"
       ]
      }
     ], 
     "prompt_number": 8
    }, 
    {
     "cell_type": "code", 
     "collapsed": false, 
     "input": [
      "y = np.ma.array([1, 2, 3], mask = [0, 1, 0])", 
      "print y"
     ], 
     "language": "python", 
     "outputs": [
      {
       "output_type": "stream", 
       "stream": "stdout", 
       "text": [
        "[1 -- 3]"
       ]
      }
     ], 
     "prompt_number": 7
    }, 
    {
     "cell_type": "code", 
     "collapsed": false, 
     "input": [
      "import numpy as np", 
      "x = np.array([3,5,7,1,9,8,6,6])", 
      "y = np.array([2,1,5,10,100,6])", 
      "", 
      "setX=set(x)", 
      "setY=set(y)", 
      "intersect=np.array( list(setX.intersection(setY)))", 
      "", 
      "print 'intersect ', intersect", 
      "", 
      "index = np.argsort(x) # index of elments in sorted order", 
      "sorted_x = x[index]   #sorted version of original array x", 
      "print 'sorted x ', sorted_x", 
      "print 'index ', index", 
      "sorted_index = np.searchsorted(sorted_x, intersect) #indices where elements of y would be inserted into sorted_x to maintain order", 
      "print 'sorted index ', sorted_index", 
      "yindex = np.take(index, sorted_index, mode=\"clip\")", 
      "print 'yindex ', yindex", 
      "#mask = x[yindex] != y", 
      "", 
      "#result = np.ma.array(yindex, mask=mask)", 
      "#print 'result ', result", 
      "#print 'result compressed ', result.compressed()"
     ], 
     "language": "python", 
     "outputs": [
      {
       "output_type": "stream", 
       "stream": "stdout", 
       "text": [
        "intersect  [1 5 6]", 
        "sorted x  [1 3 5 6 6 7 8 9]", 
        "index  [3 0 1 6 7 2 5 4]", 
        "sorted index  [0 2 3]", 
        "yindex  [3 1 6]"
       ]
      }
     ], 
     "prompt_number": 28
    }, 
    {
     "cell_type": "code", 
     "collapsed": true, 
     "input": [
      "def getIndex ( V, I):", 
      "    index=np.argsort(V)", 
      "    sorted_v=V[index]", 
      "    sorted_index=np.searchsorted( sorted_v, I)", 
      "    vindex=np.take(index, sorted_index, mode='clip')", 
      "    #print vindex", 
      "    return vindex.tolist()"
     ], 
     "language": "python", 
     "outputs": [], 
     "prompt_number": 32
    }, 
    {
     "cell_type": "code", 
     "collapsed": false, 
     "input": [
      "getIndex( np.array( [2,5,1]), np.array( [ 1,5] ) )"
     ], 
     "language": "python", 
     "outputs": [
      {
       "output_type": "pyout", 
       "prompt_number": 33, 
       "text": [
        "[2, 1]"
       ]
      }
     ], 
     "prompt_number": 33
    }, 
    {
     "cell_type": "code", 
     "collapsed": false, 
     "input": [
      "getIndex( np.array( [1,5]), np.array( [ 1,5] ) )"
     ], 
     "language": "python", 
     "outputs": [
      {
       "output_type": "pyout", 
       "prompt_number": 34, 
       "text": [
        "[0, 1]"
       ]
      }
     ], 
     "prompt_number": 34
    }, 
    {
     "cell_type": "code", 
     "collapsed": true, 
     "input": [], 
     "language": "python", 
     "outputs": []
    }
   ]
  }
 ]
}