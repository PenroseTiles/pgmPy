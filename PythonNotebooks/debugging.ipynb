{
 "metadata": {
  "name": "debugging"
 }, 
 "nbformat": 2, 
 "worksheets": [
  {
   "cells": [
    {
     "cell_type": "code", 
     "collapsed": false, 
     "input": [
      "import numpy as np", 
      "", 
      "#see this on NumPy and broadcasting", 
      "#http://onlamp.com/pub/a/python/2000/09/27/numerically.html?page=1", 
      "", 
      "a = np.array([[1,2,3],[4,5,6]])", 
      "b = np.array( [[1,2], [3,4], [5,6]])", 
      "print a", 
      "print b", 
      "print np.shape(a)", 
      "print np.shape(b)", 
      "a+b"
     ], 
     "language": "python", 
     "outputs": [
      {
       "ename": "ValueError", 
       "evalue": "operands could not be broadcast together with shapes (2,3) (3,2) ", 
       "output_type": "pyerr", 
       "traceback": [
        "\u001b[0;31m---------------------------------------------------------------------------\u001b[0m\n\u001b[0;31mValueError\u001b[0m                                Traceback (most recent call last)", 
        "\u001b[0;32m/Users/amit/software/pgmPy/<ipython-input-2-29fbccd8bef0>\u001b[0m in \u001b[0;36m<module>\u001b[0;34m()\u001b[0m\n\u001b[1;32m     10\u001b[0m \u001b[0;32mprint\u001b[0m \u001b[0mnp\u001b[0m\u001b[0;34m.\u001b[0m\u001b[0mshape\u001b[0m\u001b[0;34m(\u001b[0m\u001b[0ma\u001b[0m\u001b[0;34m)\u001b[0m\u001b[0;34m\u001b[0m\u001b[0m\n\u001b[1;32m     11\u001b[0m \u001b[0;32mprint\u001b[0m \u001b[0mnp\u001b[0m\u001b[0;34m.\u001b[0m\u001b[0mshape\u001b[0m\u001b[0;34m(\u001b[0m\u001b[0mb\u001b[0m\u001b[0;34m)\u001b[0m\u001b[0;34m\u001b[0m\u001b[0m\n\u001b[0;32m---> 12\u001b[0;31m \u001b[0ma\u001b[0m\u001b[0;34m+\u001b[0m\u001b[0mb\u001b[0m\u001b[0;34m\u001b[0m\u001b[0m\n\u001b[0m\u001b[1;32m     13\u001b[0m \u001b[0;34m\u001b[0m\u001b[0m\n\u001b[1;32m     14\u001b[0m \u001b[0;34m\u001b[0m\u001b[0m\n", 
        "\u001b[0;31mValueError\u001b[0m: operands could not be broadcast together with shapes (2,3) (3,2) "
       ]
      }, 
      {
       "output_type": "stream", 
       "stream": "stdout", 
       "text": [
        "[[1 2 3]", 
        " [4 5 6]]", 
        "[[1 2]", 
        " [3 4]", 
        " [5 6]]", 
        "(2, 3)", 
        "(3, 2)"
       ]
      }
     ], 
     "prompt_number": 2
    }, 
    {
     "cell_type": "code", 
     "collapsed": false, 
     "input": [
      "intersect= np.array( [1,5] )", 
      "B= np.array( [2,5,1] )", 
      "#other_array[first_array == item]", 
      "intersect - B"
     ], 
     "language": "python", 
     "outputs": [
      {
       "ename": "ValueError", 
       "evalue": "operands could not be broadcast together with shapes (2) (3) ", 
       "output_type": "pyerr", 
       "traceback": [
        "\u001b[0;31m---------------------------------------------------------------------------\u001b[0m\n\u001b[0;31mValueError\u001b[0m                                Traceback (most recent call last)", 
        "\u001b[0;32m/Users/amit/software/pgmPy/<ipython-input-16-d257c35b5146>\u001b[0m in \u001b[0;36m<module>\u001b[0;34m()\u001b[0m\n\u001b[1;32m      2\u001b[0m \u001b[0mB\u001b[0m\u001b[0;34m=\u001b[0m \u001b[0mnp\u001b[0m\u001b[0;34m.\u001b[0m\u001b[0marray\u001b[0m\u001b[0;34m(\u001b[0m \u001b[0;34m[\u001b[0m\u001b[0;36m2\u001b[0m\u001b[0;34m,\u001b[0m\u001b[0;36m5\u001b[0m\u001b[0;34m,\u001b[0m\u001b[0;36m1\u001b[0m\u001b[0;34m]\u001b[0m \u001b[0;34m)\u001b[0m\u001b[0;34m\u001b[0m\u001b[0m\n\u001b[1;32m      3\u001b[0m \u001b[0;34m\u001b[0m\u001b[0m\n\u001b[0;32m----> 4\u001b[0;31m \u001b[0mintersect\u001b[0m \u001b[0;34m-\u001b[0m \u001b[0mB\u001b[0m\u001b[0;34m\u001b[0m\u001b[0m\n\u001b[0m", 
        "\u001b[0;31mValueError\u001b[0m: operands could not be broadcast together with shapes (2) (3) "
       ]
      }
     ], 
     "prompt_number": 16
    }, 
    {
     "cell_type": "code", 
     "collapsed": false, 
     "input": [
      "B[intersect == x for x in ]"
     ], 
     "language": "python", 
     "outputs": [
      {
       "output_type": "pyout", 
       "prompt_number": 17, 
       "text": [
        "array([2])"
       ]
      }
     ], 
     "prompt_number": 17
    }, 
    {
     "cell_type": "code", 
     "collapsed": false, 
     "input": [
      "x=np.arange(10)", 
      "np.random.shuffle(x)", 
      "y=np.arange(5)", 
      "", 
      "xsorted=np.argsort(x)#return the indices that would sort the array", 
      "print \"x: \", x", 
      "print \"y: \", y", 
      "print \"x[xsorted] \", x[xsorted]", 
      "ypos=np.searchsorted(x[xsorted],y)", 
      "print ypos", 
      "indices=xsorted[ypos]", 
      "print \"indices of y elements in x: \", indices", 
      "#print ", 
      "#print y"
     ], 
     "language": "python", 
     "outputs": [
      {
       "output_type": "stream", 
       "stream": "stdout", 
       "text": [
        "x:  [8 0 2 9 5 4 6 1 7 3]", 
        "y:  [0 1 2 3 4]", 
        "x[xsorted]  [0 1 2 3 4 5 6 7 8 9]", 
        "[0 1 2 3 4]", 
        "indices of y elements in x:  [1 7 2 9 5]"
       ]
      }
     ], 
     "prompt_number": 43
    }, 
    {
     "cell_type": "code", 
     "collapsed": false, 
     "input": [
      "#see this http://stackoverflow.com/questions/8251541/numpy-for-every-element-in-one-array-find-the-index-in-another-array", 
      "import numpy as np", 
      "intersect=np.array( [1,5])", 
      "B=np.array([2,5,1])", 
      "", 
      "sortedintersect=np.argsort(intersect)#return the indices that would sort the array", 
      "bpos=np.searchsorted(intersect[sortedintersect],B)", 
      "", 
      "yindex=np.take(sortedintersect, bpos, mode='clip')", 
      "print \"yindex: \", yindex", 
      "mask=intersect[yindex] !=B", 
      "print \"mask: \", mask", 
      "", 
      "result=np.ma.array(yindex,mask=mask)", 
      "print 'masked array: ', result", 
      "print result.compressed()"
     ], 
     "language": "python", 
     "outputs": [
      {
       "output_type": "stream", 
       "stream": "stdout", 
       "text": [
        "yindex:  [1 1 0]", 
        "mask:  [ True False False]", 
        "masked array:  [-- 1 0]", 
        "[1 0]"
       ]
      }
     ], 
     "prompt_number": 8
    }, 
    {
     "cell_type": "code", 
     "collapsed": false, 
     "input": [
      "y = np.ma.array([1, 2, 3], mask = [0, 1, 0])", 
      "print y"
     ], 
     "language": "python", 
     "outputs": [
      {
       "output_type": "stream", 
       "stream": "stdout", 
       "text": [
        "[1 -- 3]"
       ]
      }
     ], 
     "prompt_number": 7
    }, 
    {
     "cell_type": "code", 
     "collapsed": false, 
     "input": [
      "import numpy as np", 
      "x = np.array([3,5,7,1,9,8,6,6])", 
      "y = np.array([2,1,5,10,100,6])", 
      "", 
      "setX=set(x)", 
      "setY=set(y)", 
      "intersect=np.array( list(setX.intersection(setY)))", 
      "", 
      "print 'intersect ', intersect", 
      "", 
      "index = np.argsort(x) # index of elments in sorted order", 
      "sorted_x = x[index]   #sorted version of original array x", 
      "print 'sorted x ', sorted_x", 
      "print 'index ', index", 
      "sorted_index = np.searchsorted(sorted_x, intersect) #indices where elements of y would be inserted into sorted_x to maintain order", 
      "print 'sorted index ', sorted_index", 
      "yindex = np.take(index, sorted_index, mode=\"clip\")", 
      "print 'yindex ', yindex", 
      "#mask = x[yindex] != y", 
      "", 
      "#result = np.ma.array(yindex, mask=mask)", 
      "#print 'result ', result", 
      "#print 'result compressed ', result.compressed()"
     ], 
     "language": "python", 
     "outputs": [
      {
       "output_type": "stream", 
       "stream": "stdout", 
       "text": [
        "intersect  [1 5 6]", 
        "sorted x  [1 3 5 6 6 7 8 9]", 
        "index  [3 0 1 6 7 2 5 4]", 
        "sorted index  [0 2 3]", 
        "yindex  [3 1 6]"
       ]
      }
     ], 
     "prompt_number": 28
    }, 
    {
     "cell_type": "code", 
     "collapsed": true, 
     "input": [
      "def getIndex ( V, I):", 
      "    index=np.argsort(V)", 
      "    sorted_v=V[index]", 
      "    sorted_index=np.searchsorted( sorted_v, I)", 
      "    vindex=np.take(index, sorted_index, mode='clip')", 
      "    #print vindex", 
      "    return vindex.tolist()"
     ], 
     "language": "python", 
     "outputs": [], 
     "prompt_number": 32
    }, 
    {
     "cell_type": "code", 
     "collapsed": false, 
     "input": [
      "getIndex( np.array( [2,5,1]), np.array( [ 1,5] ) )"
     ], 
     "language": "python", 
     "outputs": [
      {
       "output_type": "pyout", 
       "prompt_number": 33, 
       "text": [
        "[2, 1]"
       ]
      }
     ], 
     "prompt_number": 33
    }, 
    {
     "cell_type": "code", 
     "collapsed": false, 
     "input": [
      "getIndex( np.array( [1,5]), np.array( [ 1,5] ) )"
     ], 
     "language": "python", 
     "outputs": [
      {
       "output_type": "pyout", 
       "prompt_number": 34, 
       "text": [
        "[0, 1]"
       ]
      }
     ], 
     "prompt_number": 34
    }, 
    {
     "cell_type": "code", 
     "collapsed": false, 
     "input": [
      "from itertools import *", 
      "ploidys=[2]", 
      "for p in ploidys:", 
      "    for combo in combinations_with_replacement(['A','C','G','T'],p):", 
      "        print combo"
     ], 
     "language": "python", 
     "outputs": [
      {
       "output_type": "stream", 
       "stream": "stdout", 
       "text": [
        "('A', 'A')", 
        "('A', 'C')", 
        "('A', 'G')", 
        "('A', 'T')", 
        "('C', 'C')", 
        "('C', 'G')", 
        "('C', 'T')", 
        "('G', 'G')", 
        "('G', 'T')", 
        "('T', 'T')"
       ]
      }
     ], 
     "prompt_number": 3
    }, 
    {
     "cell_type": "code", 
     "collapsed": false, 
     "input": [
      "import itertools", 
      "import numpy as np", 
      "alleles='ACGT'", 
      "genotypes= [ genotype  for genotype in itertools.combinations_with_replacement(alleles, 2) ]", 
      "print genotypes"
     ], 
     "language": "python", 
     "outputs": [
      {
       "output_type": "stream", 
       "stream": "stdout", 
       "text": [
        "[('A', 'A'), ('A', 'C'), ('A', 'G'), ('A', 'T'), ('C', 'C'), ('C', 'G'), ('C', 'T'), ('G', 'G'), ('G', 'T'), ('T', 'T')]"
       ]
      }
     ], 
     "prompt_number": 1
    }, 
    {
     "cell_type": "code", 
     "collapsed": false, 
     "input": [
      "range(4,0,-1)"
     ], 
     "language": "python", 
     "outputs": [
      {
       "output_type": "pyout", 
       "prompt_number": 25, 
       "text": [
        "[4, 3, 2, 1]"
       ]
      }
     ], 
     "prompt_number": 25
    }, 
    {
     "cell_type": "code", 
     "collapsed": false, 
     "input": [
      "numAlleles=4", 
      "allelesToGenotypes=np.zeros([numAlleles,numAlleles])", 
      "index=0", 
      "for i in range(numAlleles):", 
      "    for j in range (i,numAlleles):", 
      "        allelesToGenotypes[i, j] = index;", 
      "        index+=1", 
      "for i in range(numAlleles):", 
      "    for j in range(0,i):", 
      "        ", 
      "        allelesToGenotypes[i,j] = allelesToGenotypes[j,i]", 
      "print allelesToGenotypes", 
      "", 
      "numGenotypes= (numAlleles * (numAlleles - 1))/2 + numAlleles", 
      "genotypesToAlleles=np.zeros([numGenotypes,2])", 
      "", 
      "index=0", 
      "for i in range(numGenotypes):", 
      "    for j in range(i,numAlleles):", 
      "        #print i, j", 
      "        genotypesToAlleles[index, :] = [i, j];", 
      "        index+=1", 
      "#print genotypesToAlleles"
     ], 
     "language": "python", 
     "outputs": [
      {
       "output_type": "stream", 
       "stream": "stdout", 
       "text": [
        "[[ 0.  1.  2.  3.]", 
        " [ 1.  4.  5.  6.]", 
        " [ 2.  5.  7.  8.]", 
        " [ 3.  6.  8.  9.]]", 
        "[[ 0.  0.]", 
        " [ 0.  1.]", 
        " [ 0.  2.]", 
        " [ 0.  3.]", 
        " [ 1.  1.]", 
        " [ 1.  2.]", 
        " [ 1.  3.]", 
        " [ 2.  2.]", 
        " [ 2.  3.]", 
        " [ 3.  3.]]"
       ]
      }
     ], 
     "prompt_number": 35
    }, 
    {
     "cell_type": "code", 
     "collapsed": true, 
     "input": [
      "from PGMcommon import *"
     ], 
     "language": "python", 
     "outputs": [], 
     "prompt_number": 1
    }, 
    {
     "cell_type": "code", 
     "collapsed": true, 
     "input": [
      "(allelesToGenotypes, genotypesToAlleles)=generateAlleleGenotypeMappers(4)"
     ], 
     "language": "python", 
     "outputs": [], 
     "prompt_number": 39
    }, 
    {
     "cell_type": "code", 
     "collapsed": false, 
     "input": [
      "print genotypesToAlleles[1,1]"
     ], 
     "language": "python", 
     "outputs": [
      {
       "output_type": "stream", 
       "stream": "stdout", 
       "text": [
        "1.0"
       ]
      }
     ], 
     "prompt_number": 40
    }, 
    {
     "cell_type": "code", 
     "collapsed": false, 
     "input": [
      "np.shape(genotypesToAlleles)"
     ], 
     "language": "python", 
     "outputs": [
      {
       "output_type": "pyout", 
       "prompt_number": 41, 
       "text": [
        "(10, 2)"
       ]
      }
     ], 
     "prompt_number": 41
    }, 
    {
     "cell_type": "code", 
     "collapsed": false, 
     "input": [
      "np.zeros((1,10))"
     ], 
     "language": "python", 
     "outputs": [
      {
       "output_type": "pyout", 
       "prompt_number": 43, 
       "text": [
        "array([[ 0.,  0.,  0.,  0.,  0.,  0.,  0.,  0.,  0.,  0.]])"
       ]
      }
     ], 
     "prompt_number": 43
    }, 
    {
     "cell_type": "code", 
     "collapsed": false, 
     "input": [
      "np.prod( (1, np.prod(10)))"
     ], 
     "language": "python", 
     "outputs": [
      {
       "output_type": "pyout", 
       "prompt_number": 46, 
       "text": [
        "10"
       ]
      }
     ], 
     "prompt_number": 46
    }, 
    {
     "cell_type": "code", 
     "collapsed": false, 
     "input": [
      "from PedigreeFactors import *", 
      "", 
      "print GenotypeAlleleFreqFactor([.1,.5,0,0], 1, 'gregor')"
     ], 
     "language": "python", 
     "outputs": [
      {
       "output_type": "stream", 
       "stream": "stdout", 
       "text": [
        "name: gregor", 
        "var: 1", 
        "card: 10", 
        "val: 0.01 0.1 0.0 0.0 0.25 0.0 0.0 0.0 0.0 0.0"
       ]
      }
     ], 
     "prompt_number": 2
    }, 
    {
     "cell_type": "code", 
     "collapsed": false, 
     "input": [
      "print g1"
     ], 
     "language": "python", 
     "outputs": [
      {
       "output_type": "stream", 
       "stream": "stdout", 
       "text": [
        "<PedigreeFactors.GenotypeAlleleFreqFactor object at 0x101f23810>"
       ]
      }
     ], 
     "prompt_number": 2
    }, 
    {
     "cell_type": "code", 
     "collapsed": false, 
     "input": [
      "print "
     ], 
     "language": "python", 
     "outputs": [
      {
       "output_type": "stream", 
       "stream": "stdout", 
       "text": [
        "(2,)"
       ]
      }
     ], 
     "prompt_number": 8
    }, 
    {
     "cell_type": "code", 
     "collapsed": false, 
     "input": [
      "alleles=[1.,1.]", 
      "", 
      "np.prod( [ allelefreq[i] for i in alleles ] ) "
     ], 
     "language": "python", 
     "outputs": [
      {
       "output_type": "pyout", 
       "prompt_number": 9, 
       "text": [
        "0.81000000000000005"
       ]
      }
     ], 
     "prompt_number": 9
    }, 
    {
     "cell_type": "code", 
     "collapsed": false, 
     "input": [
      "np.prod( [.5,.5] )"
     ], 
     "language": "python", 
     "outputs": [
      {
       "output_type": "pyout", 
       "prompt_number": 2, 
       "text": [
        "0.25"
       ]
      }
     ], 
     "prompt_number": 2
    }, 
    {
     "cell_type": "code", 
     "collapsed": false, 
     "input": [
      "np.zeros(10)"
     ], 
     "language": "python", 
     "outputs": [
      {
       "output_type": "pyout", 
       "prompt_number": 2, 
       "text": [
        "array([ 0.,  0.,  0.,  0.,  0.,  0.,  0.,  0.,  0.,  0.])"
       ]
      }
     ], 
     "prompt_number": 2
    }, 
    {
     "cell_type": "code", 
     "collapsed": false, 
     "input": [
      "import itertools", 
      "import numpy as np", 
      "alleles='ACGT'", 
      "genotypes= [ \"\".join(list(genotype))  for genotype in itertools.combinations_with_replacement(alleles, 2) ]", 
      "print genotypes"
     ], 
     "language": "python", 
     "outputs": [
      {
       "output_type": "stream", 
       "stream": "stdout", 
       "text": [
        "['AA', 'AC', 'AG', 'AT', 'CC', 'CG', 'CT', 'GG', 'GT', 'TT']"
       ]
      }
     ], 
     "prompt_number": 3
    }, 
    {
     "cell_type": "code", 
     "collapsed": false, 
     "input": [
      "print genotypes.index('AA')", 
      "print genotypes[4]"
     ], 
     "language": "python", 
     "outputs": [
      {
       "output_type": "stream", 
       "stream": "stdout", 
       "text": [
        "0", 
        "CC"
       ]
      }
     ], 
     "prompt_number": 4
    }, 
    {
     "cell_type": "code", 
     "collapsed": false, 
     "input": [
      "s1= \"\"\" hello word", 
      "foo", 
      "bar", 
      "\"\"\"", 
      "print s1"
     ], 
     "language": "python", 
     "outputs": [
      {
       "output_type": "stream", 
       "stream": "stdout", 
       "text": [
        " hello word", 
        "foo", 
        "bar"
       ]
      }
     ], 
     "prompt_number": 9
    }, 
    {
     "cell_type": "code", 
     "collapsed": true, 
     "input": [
      "from PGMcommon import *", 
      "import numpy as np"
     ], 
     "language": "python", 
     "outputs": [], 
     "prompt_number": 11
    }, 
    {
     "cell_type": "code", 
     "collapsed": false, 
     "input": [
      "genotypeToIndex(\"CC\",alleles='AC')"
     ], 
     "language": "python", 
     "outputs": [
      {
       "output_type": "stream", 
       "stream": "stdout", 
       "text": [
        "['AA', 'AC', 'CC']"
       ]
      }, 
      {
       "output_type": "pyout", 
       "prompt_number": 12, 
       "text": [
        "2"
       ]
      }
     ], 
     "prompt_number": 12
    }, 
    {
     "cell_type": "code", 
     "collapsed": false, 
     "input": [
      "indexToGenotype(2,alleles='AC')"
     ], 
     "language": "python", 
     "outputs": [
      {
       "output_type": "pyout", 
       "prompt_number": 13, 
       "text": [
        "'CC'"
       ]
      }
     ], 
     "prompt_number": 13
    }, 
    {
     "cell_type": "code", 
     "collapsed": true, 
     "input": [
      "(allelesToGenotypes, genotypesToAlleles)=generateAlleleGenotypeMappers(4)"
     ], 
     "language": "python", 
     "outputs": [], 
     "prompt_number": 14
    }, 
    {
     "cell_type": "code", 
     "collapsed": false, 
     "input": [], 
     "language": "python", 
     "outputs": [
      {
       "output_type": "stream", 
       "stream": "stdout", 
       "text": [
        "[[0 1 2 3]", 
        " [1 4 5 6]", 
        " [2 5 7 8]", 
        " [3 6 8 9]]"
       ]
      }
     ], 
     "prompt_number": 15
    }, 
    {
     "cell_type": "code", 
     "collapsed": false, 
     "input": [
      "print np.shape(genotypesToAlleles)"
     ], 
     "language": "python", 
     "outputs": [
      {
       "output_type": "stream", 
       "stream": "stdout", 
       "text": [
        "(10, 2)"
       ]
      }
     ], 
     "prompt_number": 17
    }, 
    {
     "cell_type": "code", 
     "collapsed": false, 
     "input": [
      "from Factor import *", 
      "from FactorOperations import *", 
      "from PedigreeFactors import *", 
      "import itertools", 
      "from collections import defaultdict", 
      "genotypeFactor = Factor( [\"bart\", \"homer\", \"marge\"], [ ], [ ], \"\"\"Bart | Homer, Marge \"\"\" )", 
      "(allelesToGenotypes, genotypesToAlleles) = generateAlleleGenotypeMappers(2)", 
      "", 
      "print genotypesToAlleles", 
      "(ngenos,ploidy)= np.shape(genotypesToAlleles)", 
      "#print allelesToGenotypes", 
      "print ngenos"
     ], 
     "language": "python", 
     "outputs": [
      {
       "output_type": "stream", 
       "stream": "stdout", 
       "text": [
        "[[0 0]", 
        " [0 1]", 
        " [1 1]]", 
        "3"
       ]
      }
     ], 
     "prompt_number": 2
    }, 
    {
     "cell_type": "code", 
     "collapsed": false, 
     "input": [
      "p1=GenotypeGivenParentsFactor(2,\"bart\",\"homer\",\"marge\",\"\"\"Bart | Homer, Marge \"\"\")", 
      "print p1"
     ], 
     "language": "python", 
     "outputs": [
      {
       "output_type": "stream", 
       "stream": "stdout", 
       "text": [
        "name: Bart | Homer, Marge ", 
        "var: bart homer marge", 
        "card: 3 3 3", 
        "val: 1.0 0.0 0.0 0.5 0.5 0.0 0.0 1.0 0.0 0.5 0.5 0.0 0.25 0.5 0.25 0.0 0.5 0.5 0.0 1.0 0.0 0.0 0.5 0.5 0.0 0.0 1.0"
       ]
      }
     ], 
     "prompt_number": 4
    }, 
    {
     "cell_type": "code", 
     "collapsed": false, 
     "input": [
      "assignments=IndexToAssignment( np.arange(np.prod(genotypeFactor.getCard())), genotypeFactor.getCard() )-1", 
      "#assignments=assignments.astype(int)", 
      "for z in range( np.prod(genotypeFactor.getCard() ) ):", 
      "    #print 'z: ', z", 
      "    curr_assign= assignments[z]", 
      "    #print 'current assignment: ', curr_assign", 
      "    childAssignment=int(curr_assign[0])", 
      "    ", 
      "    parent1gametes= genotypesToAlleles[curr_assign[1],:]", 
      "    parent2gametes= genotypesToAlleles[curr_assign[2],:]", 
      "    #print 'parental gametes: ', parent1gametes, parent2gametes", 
      "    #print 'child assignment: ', childAssignment", 
      "    #list of tuples containing list of zygote(genotype) tuples", 
      "    zygote_list=list(itertools.product(parent1gametes,parent2gametes))", 
      "    punnet_freq=[  allelesToGenotypes[zygote[0],zygote[1]] for zygote in zygote_list ]", 
      "    histc={}", 
      "    hist=[]", 
      "    for g in range( ngenos):", 
      "        histc[g]=0.", 
      "    for x in punnet_freq:", 
      "        histc[x]+=1.", 
      "    #print histc.values()", 
      "    for g in range (ngenos):", 
      "        hist.append ( histc[g] )", 
      "    #print punnet_freq", 
      "    hist=(np.array ( hist)) /4", 
      "    #print 'hist:', hist", 
      "    #print zygote_list", 
      "    values[z]=hist[childAssignment]", 
      "    #print hist", 
      "    #print \"===\"", 
      "genotypeFactor.setVal( values )", 
      "print genotypeFactor"
     ], 
     "language": "python", 
     "outputs": [
      {
       "output_type": "stream", 
       "stream": "stdout", 
       "text": [
        "name: Bart | Homer, Marge ", 
        "var: 3 2 1", 
        "card: 3 3 3", 
        "val: 1.0 0.0 0.0 0.5 0.5 0.0 0.0 1.0 0.0 0.5 0.5 0.0 0.25 0.5 0.25 0.0 0.5 0.5 0.0 1.0 0.0 0.0 0.5 0.5 0.0 0.0 1.0"
       ]
      }
     ], 
     "prompt_number": 137
    }, 
    {
     "cell_type": "code", 
     "collapsed": true, 
     "input": [
      "from collections import defaultdict", 
      "a_list=[(0, 0), (0, 0), (0, 0), (0, 0)]", 
      "kvmap= defaultdict(int)", 
      "for k in a_list:", 
      "    kvmap[k] += 1"
     ], 
     "language": "python", 
     "outputs": [], 
     "prompt_number": 86
    }, 
    {
     "cell_type": "code", 
     "collapsed": false, 
     "input": [
      "print kvmap.items()"
     ], 
     "language": "python", 
     "outputs": [
      {
       "output_type": "stream", 
       "stream": "stdout", 
       "text": [
        "[((0, 0), 4)]"
       ]
      }
     ], 
     "prompt_number": 87
    }, 
    {
     "cell_type": "code", 
     "collapsed": false, 
     "input": [
      "for( zygote,count) in kvmap.items():", 
      "    print zygote, count/4", 
      "    print allelesToGenotypes[zygote[0],zygote[1]]"
     ], 
     "language": "python", 
     "outputs": [
      {
       "output_type": "stream", 
       "stream": "stdout", 
       "text": [
        "(0, 0) 1", 
        "0"
       ]
      }
     ], 
     "prompt_number": 61
    }, 
    {
     "cell_type": "code", 
     "collapsed": false, 
     "input": [
      "allelesToGenotypes([1,1])"
     ], 
     "language": "python", 
     "outputs": [
      {
       "ename": "TypeError", 
       "evalue": "'numpy.ndarray' object is not callable", 
       "output_type": "pyerr", 
       "traceback": [
        "\u001b[0;31m---------------------------------------------------------------------------\u001b[0m\n\u001b[0;31mTypeError\u001b[0m                                 Traceback (most recent call last)", 
        "\u001b[0;32m/Users/amit/software/pgmPy/PythonNotebooks/<ipython-input-45-eceb98560604>\u001b[0m in \u001b[0;36m<module>\u001b[0;34m()\u001b[0m\n\u001b[0;32m----> 1\u001b[0;31m \u001b[0mallelesToGenotypes\u001b[0m\u001b[0;34m(\u001b[0m\u001b[0;34m[\u001b[0m\u001b[0;36m1\u001b[0m\u001b[0;34m,\u001b[0m\u001b[0;36m1\u001b[0m\u001b[0;34m]\u001b[0m\u001b[0;34m)\u001b[0m\u001b[0;34m\u001b[0m\u001b[0m\n\u001b[0m", 
        "\u001b[0;31mTypeError\u001b[0m: 'numpy.ndarray' object is not callable"
       ]
      }
     ], 
     "prompt_number": 45
    }, 
    {
     "cell_type": "code", 
     "collapsed": false, 
     "input": [
      "print allelesToGenotypes"
     ], 
     "language": "python", 
     "outputs": [
      {
       "output_type": "stream", 
       "stream": "stdout", 
       "text": [
        "[[0 1]", 
        " [1 2]]"
       ]
      }
     ], 
     "prompt_number": 46
    }, 
    {
     "cell_type": "code", 
     "collapsed": false, 
     "input": [
      "genotypesToAlleles(3)"
     ], 
     "language": "python", 
     "outputs": [
      {
       "ename": "TypeError", 
       "evalue": "'numpy.ndarray' object is not callable", 
       "output_type": "pyerr", 
       "traceback": [
        "\u001b[0;31m---------------------------------------------------------------------------\u001b[0m\n\u001b[0;31mTypeError\u001b[0m                                 Traceback (most recent call last)", 
        "\u001b[0;32m/Users/amit/software/pgmPy/PythonNotebooks/<ipython-input-47-2082852e1924>\u001b[0m in \u001b[0;36m<module>\u001b[0;34m()\u001b[0m\n\u001b[0;32m----> 1\u001b[0;31m \u001b[0mgenotypesToAlleles\u001b[0m\u001b[0;34m(\u001b[0m\u001b[0;36m3\u001b[0m\u001b[0;34m)\u001b[0m\u001b[0;34m\u001b[0m\u001b[0m\n\u001b[0m", 
        "\u001b[0;31mTypeError\u001b[0m: 'numpy.ndarray' object is not callable"
       ]
      }
     ], 
     "prompt_number": 47
    }, 
    {
     "cell_type": "code", 
     "collapsed": false, 
     "input": [
      "genotypesToAlleles[1,:]"
     ], 
     "language": "python", 
     "outputs": [
      {
       "output_type": "pyout", 
       "prompt_number": 48, 
       "text": [
        "array([0, 1])"
       ]
      }
     ], 
     "prompt_number": 48
    }, 
    {
     "cell_type": "code", 
     "collapsed": false, 
     "input": [
      "np.shape(allelesToGenotypes)"
     ], 
     "language": "python", 
     "outputs": [
      {
       "output_type": "pyout", 
       "prompt_number": 50, 
       "text": [
        "(2, 2)"
       ]
      }
     ], 
     "prompt_number": 50
    }, 
    {
     "cell_type": "code", 
     "collapsed": false, 
     "input": [
      "allelesToGenotypes[1,1]"
     ], 
     "language": "python", 
     "outputs": [
      {
       "output_type": "pyout", 
       "prompt_number": 60, 
       "text": [
        "2"
       ]
      }
     ], 
     "prompt_number": 60
    }, 
    {
     "cell_type": "code", 
     "collapsed": false, 
     "input": [
      "allelesToGenotypes"
     ], 
     "language": "python", 
     "outputs": [
      {
       "output_type": "pyout", 
       "prompt_number": 53, 
       "text": [
        "array([[0, 1],", 
        "       [1, 2]])"
       ]
      }
     ], 
     "prompt_number": 53
    }, 
    {
     "cell_type": "code", 
     "collapsed": false, 
     "input": [
      "range( np.prod(genotypeFactor.getCard() ) )"
     ], 
     "language": "python", 
     "outputs": [
      {
       "output_type": "pyout", 
       "prompt_number": 73, 
       "text": [
        "[0,", 
        " 1,", 
        " 2,", 
        " 3,", 
        " 4,", 
        " 5,", 
        " 6,", 
        " 7,", 
        " 8,", 
        " 9,", 
        " 10,", 
        " 11,", 
        " 12,", 
        " 13,", 
        " 14,", 
        " 15,", 
        " 16,", 
        " 17,", 
        " 18,", 
        " 19,", 
        " 20,", 
        " 21,", 
        " 22,", 
        " 23,", 
        " 24,", 
        " 25,", 
        " 26]"
       ]
      }
     ], 
     "prompt_number": 73
    }, 
    {
     "cell_type": "code", 
     "collapsed": true, 
     "input": [], 
     "language": "python", 
     "outputs": [], 
     "prompt_number": 1
    }, 
    {
     "cell_type": "code", 
     "collapsed": false, 
     "input": [
      "\"\"\"\" construct a Bayesian Network representing a pedigree (genotypes & phenotypes) \"\"\"", 
      "from Factor import *", 
      "from FactorOperations import *", 
      "from PedigreeFactors import *", 
      "import itertools", 
      "import numpy as np", 
      "#prob of being effected, given the ith genotype", 
      "#alphaList[i] is the prob of being effected given the ith genotype", 
      "alphaList=[.3,.4,.3]", 
      "#lets just make a simple trio of Homer, Marge, and Bart", 
      "homer=Ped('Simpsons','Homer', '0', '0','1','.')", 
      "marge=Ped('Simpsons','Marge', '0', '0','2','.')", 
      "bart=Ped('Simpsons','Bart', 'Homer', 'Marge','1','.')", 
      "", 
      "print homer", 
      "print marge", 
      "print bart", 
      "#a Pedigree is just a list of individual Ped objects", 
      "simpsonsPedigree=[homer, marge, bart]", 
      "", 
      "totalAlleles=2", 
      "alleleFreq=[.5,.5]", 
      "totalPeople=len(simpsonsPedigree)", 
      "print totalPeople", 
      "totalFactors=totalPeople * 2", 
      "factorList=totalFactors*[None]", 
      "print factorList", 
      "for i in range( totalPeople):", 
      "    print i", 
      "    if simpsonsPedigree[i].isFounder():", 
      "        print simpsonsPedigree[i].getid()", 
      "        factorList[i]=GenotypeAlleleFreqFactor(alleleFreq,simpsonsPedigree[i].getid(),simpsonsPedigree[i].getid())", 
      "        #factorList(i)=genotypeGivenAlleleFreqsFactor(alleleFreqs,i);", 
      "    else:", 
      "        print simpsonsPedigree[i].getParents(), simpsonsPedigree[i].getid()", 
      "        #GenotypeGivenParentsFactor(2,\"bart\",\"homer\",\"marge\",\"\"\"Bart | Homer, Marge \"\"\")", 
      "        factorList[i]=GenotypeGivenParentsFactor(totalAlleles, simpsonsPedigree[i].getid(), simpsonsPedigree[i].getParents()[0], simpsonsPedigree[i].getParents()[1], \"Bart|Homer, Marge\")", 
      "        #genotypeGivenParentsGenotypesFactor(numAlleles, i, parents(2), parents(3) )", 
      "    factorList[i+totalPeople]=PhenotypeGivenGenotypeFactor(alphaList, i, i+totalPeople, \"|\".join([ str(i), str(i+totalPeople)]) );", 
      "print factorList[0:3]"
     ], 
     "language": "python", 
     "outputs": [
      {
       "output_type": "stream", 
       "stream": "stdout", 
       "text": [
        "Simpsons\tHomer\t0\t0\t1\t.", 
        "Simpsons\tMarge\t0\t0\t2\t.", 
        "Simpsons\tBart\tHomer\tMarge\t1\t.", 
        "3", 
        "[None, None, None, None, None, None]", 
        "0", 
        "Homer", 
        "1", 
        "Marge", 
        "2", 
        "('Homer', 'Marge') Bart", 
        "[<PedigreeFactors.GenotypeAlleleFreqFactor object at 0x1037b2990>, <PedigreeFactors.GenotypeAlleleFreqFactor object at 0x1017af550>, <PedigreeFactors.GenotypeGivenParentsFactor object at 0x1037b2bd0>]"
       ]
      }
     ], 
     "prompt_number": 1
    }, 
    {
     "cell_type": "code", 
     "collapsed": false, 
     "input": [
      "#Family ID", 
      "#Individual ID", 
      "#Paternal ID", 
      "#Maternal ID", 
      "#Sex (1=male; 2=female; other=unknownPhenotype", 
      "", 
      "", 
      "p1=PhenotypeGivenGenotypeFactor([.2,.5,.3],6,3,'6|3')", 
      "print p1"
     ], 
     "language": "python", 
     "outputs": [
      {
       "output_type": "stream", 
       "stream": "stdout", 
       "text": [
        "name: 6|3", 
        "var: 6 3", 
        "card: 2 3", 
        "val: 0.2 0.8 0.5 0.5 0.3 0.7"
       ]
      }
     ], 
     "prompt_number": 5
    }, 
    {
     "cell_type": "code", 
     "collapsed": true, 
     "input": [
      "alphaList=[.3,.4,.3]", 
      "values = [x for x in range( np.prod([2,3]))]"
     ], 
     "language": "python", 
     "outputs": [], 
     "prompt_number": 3
    }, 
    {
     "cell_type": "code", 
     "collapsed": true, 
     "input": [
      "ctr=0", 
      "alphas=2*len(alphaList)*[None]", 
      "for i in range(len(alphaList)):", 
      "  alphas[ctr]=alphaList[i];", 
      "  ctr=ctr+1", 
      "  alphas[ctr]=1-alphaList[i];", 
      "  ctr=ctr+1", 
      "", 
      "               "
     ], 
     "language": "python", 
     "outputs": [], 
     "prompt_number": 4
    }, 
    {
     "cell_type": "code", 
     "collapsed": false, 
     "input": [
      "print alphas", 
      "values=alphas"
     ], 
     "language": "python", 
     "outputs": [
      {
       "output_type": "stream", 
       "stream": "stdout", 
       "text": [
        "[0.3, 0.7, 0.4, 0.6, 0.3, 0.7]"
       ]
      }
     ], 
     "prompt_number": 50
    }, 
    {
     "cell_type": "code", 
     "collapsed": false, 
     "input": [
      "print values"
     ], 
     "language": "python", 
     "outputs": [
      {
       "output_type": "stream", 
       "stream": "stdout", 
       "text": [
        "[0.3, 0.7, 0.4, 0.6, 0.3, 0.7]"
       ]
      }
     ], 
     "prompt_number": 51
    }, 
    {
     "cell_type": "code", 
     "collapsed": false, 
     "input": [
      "import numpy as np", 
      "", 
      "x = np.array([[1, 2, 3], [4, 5, 6]], np.int32)", 
      "print np.shape(x)"
     ], 
     "language": "python", 
     "outputs": [
      {
       "output_type": "stream", 
       "stream": "stdout", 
       "text": [
        "(2, 3)"
       ]
      }
     ], 
     "prompt_number": 2
    }, 
    {
     "cell_type": "code", 
     "collapsed": false, 
     "input": [
      "x"
     ], 
     "language": "python", 
     "outputs": [
      {
       "output_type": "pyout", 
       "prompt_number": 9, 
       "text": [
        "array([[1, 2, 3],", 
        "       [4, 5, 6]], dtype=int32)"
       ]
      }
     ], 
     "prompt_number": 9
    }, 
    {
     "cell_type": "code", 
     "collapsed": false, 
     "input": [
      "x[:,1]"
     ], 
     "language": "python", 
     "outputs": [
      {
       "output_type": "pyout", 
       "prompt_number": 10, 
       "text": [
        "array([2, 5], dtype=int32)"
       ]
      }
     ], 
     "prompt_number": 10
    }, 
    {
     "cell_type": "code", 
     "collapsed": true, 
     "input": [
      "x=np.array(range(27))"
     ], 
     "language": "python", 
     "outputs": [], 
     "prompt_number": 11
    }, 
    {
     "cell_type": "code", 
     "collapsed": true, 
     "input": [
      "x=np.array([[[ 0,  1,  2],", 
      "        [ 3,  4,  5],", 
      "        [ 6,  7,  8]],", 
      "       [[ 9, 10, 11],", 
      "        [12, 13, 14],", 
      "        [15, 16, 17]],", 
      "       [[18, 19, 20],", 
      "        [21, 22, 23],", 
      "        [24, 25, 26]]])"
     ], 
     "language": "python", 
     "outputs": [], 
     "prompt_number": 13
    }, 
    {
     "cell_type": "code", 
     "collapsed": false, 
     "input": [
      "x"
     ], 
     "language": "python", 
     "outputs": [
      {
       "output_type": "pyout", 
       "prompt_number": 14, 
       "text": [
        "array([[[ 0,  1,  2],", 
        "        [ 3,  4,  5],", 
        "        [ 6,  7,  8]],", 
        "", 
        "       [[ 9, 10, 11],", 
        "        [12, 13, 14],", 
        "        [15, 16, 17]],", 
        "", 
        "       [[18, 19, 20],", 
        "        [21, 22, 23],", 
        "        [24, 25, 26]]])"
       ]
      }
     ], 
     "prompt_number": 14
    }, 
    {
     "cell_type": "code", 
     "collapsed": false, 
     "input": [
      "x[1,:,:]"
     ], 
     "language": "python", 
     "outputs": [
      {
       "output_type": "pyout", 
       "prompt_number": 15, 
       "text": [
        "array([[ 9, 10, 11],", 
        "       [12, 13, 14],", 
        "       [15, 16, 17]])"
       ]
      }
     ], 
     "prompt_number": 15
    }, 
    {
     "cell_type": "code", 
     "collapsed": false, 
     "input": [
      "#this is a 3d eqivalent of childGivenParentalGenotypeFactor", 
      "c_pm=np.arange(1000).reshape(10,10,10)"
     ], 
     "language": "python", 
     "outputs": [
      {
       "ename": "NameError", 
       "evalue": "name 'np' is not defined", 
       "output_type": "pyerr", 
       "traceback": [
        "\u001b[0;31m---------------------------------------------------------------------------\u001b[0m\n\u001b[0;31mNameError\u001b[0m                                 Traceback (most recent call last)", 
        "\u001b[0;32m/Users/amit/software/pgmPy/PythonNotebooks/<ipython-input-1-28bdc4a032e3>\u001b[0m in \u001b[0;36m<module>\u001b[0;34m()\u001b[0m\n\u001b[1;32m      1\u001b[0m \u001b[0;31m#this is a 3d eqivalent of childGivenParentalGenotypeFactor\u001b[0m\n\u001b[0;34m\u001b[0m\u001b[0m\n\u001b[0;32m----> 2\u001b[0;31m \u001b[0mc_pm\u001b[0m\u001b[0;34m=\u001b[0m\u001b[0mnp\u001b[0m\u001b[0;34m.\u001b[0m\u001b[0marange\u001b[0m\u001b[0;34m(\u001b[0m\u001b[0;36m1000\u001b[0m\u001b[0;34m)\u001b[0m\u001b[0;34m.\u001b[0m\u001b[0mreshape\u001b[0m\u001b[0;34m(\u001b[0m\u001b[0;36m10\u001b[0m\u001b[0;34m,\u001b[0m\u001b[0;36m10\u001b[0m\u001b[0;34m,\u001b[0m\u001b[0;36m10\u001b[0m\u001b[0;34m)\u001b[0m\u001b[0;34m\u001b[0m\u001b[0m\n\u001b[0m", 
        "\u001b[0;31mNameError\u001b[0m: name 'np' is not defined"
       ]
      }
     ], 
     "prompt_number": 1
    }, 
    {
     "cell_type": "code", 
     "collapsed": false, 
     "input": [
      "from Factor import *", 
      "from PedigreeFactors import *", 
      "from PedigreeFactors import *", 
      "from GeneticNetworkFactory import *", 
      "import itertools", 
      "import numpy as np", 
      "alphaList=[.8,.6,.1]", 
      "allelefreq=[.1,.9]", 
      "chrom='12'", 
      "position=1000", 
      "g1=GeneticNetworkFactory('sixperson.ped',alphaList,allelefreq, chrom,position)", 
      "g1.constructNetwork()", 
      "factorList=g1.getFactorList()", 
      "for f in factorList:", 
      "    print f.getFactor()", 
      "    print \"==\""
     ], 
     "language": "python", 
     "outputs": [
      {
       "output_type": "stream", 
       "stream": "stdout", 
       "text": [
        "name: 1 genotype ", 
        "var: 1", 
        "card: 3", 
        "val: 0.01 0.18 0.81", 
        "==", 
        "name: 2 genotype |1,3", 
        "var: 2 1 3", 
        "card: 3 3 3", 
        "val: 1.0 0.0 0.0 0.5 0.5 0.0 0.0 1.0 0.0 0.5 0.5 0.0 0.25 0.5 0.25 0.0 0.5 0.5 0.0 1.0 0.0 0.0 0.5 0.5 0.0 0.0 1.0", 
        "==", 
        "name: 3 genotype ", 
        "var: 3", 
        "card: 3", 
        "val: 0.01 0.18 0.81", 
        "==", 
        "name: 4 genotype |1,3", 
        "var: 4 1 3", 
        "card: 3 3 3", 
        "val: 1.0 0.0 0.0 0.5 0.5 0.0 0.0 1.0 0.0 0.5 0.5 0.0 0.25 0.5 0.25 0.0 0.5 0.5 0.0 1.0 0.0 0.0 0.5 0.5 0.0 0.0 1.0", 
        "==", 
        "name: 5 genotype |2,6", 
        "var: 5 2 6", 
        "card: 3 3 3", 
        "val: 1.0 0.0 0.0 0.5 0.5 0.0 0.0 1.0 0.0 0.5 0.5 0.0 0.25 0.5 0.25 0.0 0.5 0.5 0.0 1.0 0.0 0.0 0.5 0.5 0.0 0.0 1.0", 
        "==", 
        "name: 6 genotype ", 
        "var: 6", 
        "card: 3", 
        "val: 0.01 0.18 0.81", 
        "==", 
        "name: 1 phenotype | 1 genotype", 
        "var: 7 1", 
        "card: 2 3", 
        "val: 0.8 0.2 0.6 0.4 0.1 0.9", 
        "==", 
        "name: 2 phenotype | 2 genotype", 
        "var: 8 2", 
        "card: 2 3", 
        "val: 0.8 0.2 0.6 0.4 0.1 0.9", 
        "==", 
        "name: 3 phenotype | 3 genotype", 
        "var: 9 3", 
        "card: 2 3", 
        "val: 0.8 0.2 0.6 0.4 0.1 0.9", 
        "==", 
        "name: 4 phenotype | 4 genotype", 
        "var: 10 4", 
        "card: 2 3", 
        "val: 0.8 0.2 0.6 0.4 0.1 0.9", 
        "==", 
        "name: 5 phenotype | 5 genotype", 
        "var: 11 5", 
        "card: 2 3", 
        "val: 0.8 0.2 0.6 0.4 0.1 0.9", 
        "==", 
        "name: 6 phenotype | 6 genotype", 
        "var: 12 6", 
        "card: 2 3", 
        "val: 0.8 0.2 0.6 0.4 0.1 0.9", 
        "=="
       ]
      }
     ], 
     "prompt_number": 10
    }, 
    {
     "cell_type": "code", 
     "collapsed": false, 
     "input": [
      "#ok now start the decoupled factor testing", 
      "#prob(child haplotype|grand(paternal), grand(maternal)", 
      "import numpy as np", 
      "from PedigreeFactors import *", 
      "", 
      "numAlleles=2", 
      "index=0", 
      "values=np.zeros( np.prod([ numAlleles,numAlleles,numAlleles])).tolist()", 
      "for i in range(numAlleles):", 
      "    #iterate through alleles from", 
      "    #grand(paternal) haplotype", 
      "    for j in range(numAlleles):", 
      "        #iterate through alleles from", 
      "        #grand(maternal) haplotype", 
      "        for k in range(numAlleles):", 
      "            #iterate thru child alleles", 
      "            print i, j, k", 
      "            if j==k:#child has grandmotherhap", 
      "                if i==k:#grandfatherhap is the same", 
      "                    values[index]=1", 
      "                else:", 
      "                    values[index]=.5", 
      "            elif i==k:#child has grandfather hap", 
      "                values[index]=.5", 
      "            else:", 
      "                pass", 
      "            index+=1", 
      "print values", 
      "", 
      "                "
     ], 
     "language": "python", 
     "outputs": [
      {
       "output_type": "stream", 
       "stream": "stdout", 
       "text": [
        "0 0 0", 
        "0 0 1", 
        "0 1 0", 
        "0 1 1", 
        "1 0 0", 
        "1 0 1", 
        "1 1 0", 
        "1 1 1", 
        "[1, 0.0, 0.5, 0.5, 0.5, 0.5, 0.0, 1]"
       ]
      }
     ], 
     "prompt_number": 1
    }, 
    {
     "cell_type": "code", 
     "collapsed": false, 
     "input": [
      "f1=ChildCopyGivenParentalsFactor(2,3,2,1)"
     ], 
     "language": "python", 
     "outputs": [
      {
       "output_type": "stream", 
       "stream": "stdout", 
       "text": [
        "0 0 0", 
        "0 0 1", 
        "0 1 0", 
        "0 1 1", 
        "1 0 0", 
        "1 0 1", 
        "1 1 0", 
        "1 1 1", 
        "[1, 0.0, 0.5, 0.5, 0.5, 0.5, 0.0, 1]", 
        "name: child|hap1,hap2", 
        "var: 3 2 1", 
        "card: 2 2 2", 
        "val: 1.0 0.0 0.5 0.5 0.5 0.5 0.0 1.0"
       ]
      }
     ], 
     "prompt_number": 2
    }, 
    {
     "cell_type": "code", 
     "collapsed": false, 
     "input": [
      "#phenotype|paterna, maternal haploytpes", 
      "#decoupled BN for Pr(pheno|geno)", 
      "", 
      "from Factor import *", 
      "from PGMcommon import *", 
      "from PedigreeFactors import *", 
      "numAlleles=2", 
      "f=phenotypeGivenHaplotypesFactor([.3,.7,.4],numAlleles,3,2,1)", 
      "print f"
     ], 
     "language": "python", 
     "outputs": [
      {
       "output_type": "stream", 
       "stream": "stdout", 
       "text": [
        "name: phenotype| geneCopy1, geneCopy2", 
        "var: 1 3 2", 
        "card: 2 2 2", 
        "val: 0.3 0.7 0.7 0.3 0.7 0.3 0.4 0.6"
       ]
      }
     ], 
     "prompt_number": 1
    }, 
    {
     "cell_type": "code", 
     "collapsed": false, 
     "input": [
      "foo=[1,2,3,4,5,6,8,9,10,11,12]", 
      "print len(foo)", 
      "print max(foo)", 
      "newmap=np.zeros( max(foo), dtype=int ).tolist()", 
      "print newmap, len(newmap)"
     ], 
     "language": "python", 
     "outputs": [
      {
       "output_type": "stream", 
       "stream": "stdout", 
       "text": [
        "11", 
        "12", 
        "[0, 0, 0, 0, 0, 0, 0, 0, 0, 0, 0, 0] 12"
       ]
      }
     ], 
     "prompt_number": 4
    }, 
    {
     "cell_type": "code", 
     "collapsed": false, 
     "input": [
      "for i in range ( len( foo) ):", 
      "    print i", 
      "    newmap [ foo[i]-1 ] = i+1", 
      "newmap"
     ], 
     "language": "python", 
     "outputs": [
      {
       "output_type": "stream", 
       "stream": "stdout", 
       "text": [
        "0", 
        "1", 
        "2", 
        "3", 
        "4", 
        "5", 
        "6", 
        "7", 
        "8", 
        "9", 
        "10"
       ]
      }, 
      {
       "output_type": "pyout", 
       "prompt_number": 5, 
       "text": [
        "[1, 2, 3, 4, 5, 6, 0, 7, 8, 9, 10, 11]"
       ]
      }
     ], 
     "prompt_number": 5
    }, 
    {
     "cell_type": "code", 
     "collapsed": false, 
     "input": [
      "import sys", 
      "import numpy as np", 
      "from Factor import *", 
      "from PGMcommon import *", 
      "from PedigreeFactors import *", 
      "from FactorOperations import *", 
      "from GeneticNetworkFactory import *", 
      "from CliqueTree import *", 
      "import networkx as nx", 
      "import matplotlib.pyplot as plt", 
      "from CliqueTreeOperations import *", 
      "#to create a clique tree, we start with a list of factors", 
      "#and potentially some observed evidence", 
      "alphaList=[.8,.6,.1]", 
      "allelefreq=[.1,.9]", 
      "chrom='12'", 
      "position=1000", 
      "g1=GeneticNetworkFactory('sixperson.ped',alphaList,allelefreq, chrom,position)", 
      "g1.constructNetwork()", 
      "factorList=g1.getFactorList()", 
      "#for f in factorList:", 
      "#    print f.getFactor()", 
      "#    print ", 
      "", 
      "\"\"\" create cTree, prune it, then compute initial potentials \"\"\"", 
      "cTree = createCliqueTree(factorList)", 
      "cTree=PruneTree( cTree )", 
      "P=CliqueTreeInitialPotential ( cTree )", 
      "P.toString()", 
      "\"\"\" we need to come up wih a proper message passing order. A clique is ready to pass", 
      "messages upward once its recieved all downstream messages from its neighbor (and vice versa)", 
      "its ready to transmit downstream once it recieves all its upstream messages", 
      "", 
      "the ith clique C_i is ready to transmit to its neighbor C_j when C_i recieves all its ", 
      "messages from neigbors except C_j. In cTree message passing, each message is passed ", 
      "once.  To get the process started we start with our initial potential cTree, P", 
      "and an empty matrix of factors, representing messages passed between the nodes on the clique", 
      "tree \"\"\"", 
      "", 
      "#totalNodes=P.getNodeCount()", 
      "#messages=np.array( [ Factor( [], [], [], '0' ) ] ) ", 
      "#messages= np.tile(messages, (totalNodes, totalNodes))", 
      "#(a,b)=getNextClique(P,messages)", 
      "#print 'a: ', a, ' b: ', b"
     ], 
     "language": "python", 
     "outputs": [
      {
       "output_type": "stream", 
       "stream": "stdout", 
       "text": [
        "nodes:  [<Factor.Factor object at 0x104a8aa50>, <Factor.Factor object at 0x104a8a250>, <Factor.Factor object at 0x104a8a890>, <Factor.Factor object at 0x104a8a4d0>, <Factor.Factor object at 0x104a8a610>, <Factor.Factor object at 0x104a8a8d0>, <Factor.Factor object at 0x104a8a410>, <Factor.Factor object at 0x104a8a190>, <Factor.Factor object at 0x104a8a550>]", 
        "card:  [3, 3, 3, 3, 3, 3, 2, 2, 2, 2, 2, 2]", 
        "factorList:  12", 
        "factorInds: [0, 0, 0, 0, 0, 0, 0, 0, 0, 0, 0, 1]", 
        "edges:", 
        "[[ 0.  0.  0.  0.  0.  0.  0.  1.  0.]", 
        " [ 0.  0.  0.  0.  0.  0.  0.  0.  1.]", 
        " [ 0.  0.  0.  0.  0.  0.  0.  1.  0.]", 
        " [ 0.  0.  0.  0.  0.  0.  1.  0.  0.]", 
        " [ 0.  0.  0.  0.  0.  0.  0.  0.  1.]", 
        " [ 0.  0.  0.  0.  0.  0.  0.  0.  1.]", 
        " [ 0.  0.  0.  1.  0.  0.  0.  1.  0.]", 
        " [ 1.  0.  1.  0.  0.  0.  1.  0.  1.]", 
        " [ 0.  1.  0.  0.  1.  1.  0.  1.  0.]]"
       ]
      }, 
      {
       "output_type": "stream", 
       "stream": "stderr", 
       "text": [
        "A factor is empty!", 
        "A factor is empty!", 
        "A factor is empty!", 
        "A factor is empty!", 
        "A factor is empty!", 
        "A factor is empty!", 
        "A factor is empty!", 
        "A factor is empty!", 
        "A factor is empty!", 
        "A factor is empty!", 
        "A factor is empty!", 
        "A factor is empty!", 
        "FactorMarginalization:Error, resultant factor has empty scope..."
       ]
      }, 
      {
       "output_type": "pyout", 
       "prompt_number": 1, 
       "text": [
        "' we need to come up wih a proper message passing order. A clique is ready to pass\\nmessages upward once its recieved all downstream messages from its neighbor (and vice versa)\\nits ready to transmit downstream once it recieves all its upstream messages\\n\\nthe ith clique C_i is ready to transmit to its neighbor C_j when C_i recieves all its \\nmessages from neigbors except C_j. In cTree message passing, each message is passed \\nonce.  To get the process started we start with our initial potential cTree, P\\nand an empty matrix of factors, representing messages passed between the nodes on the clique\\ntree '"
       ]
      }
     ], 
     "prompt_number": 1
    }, 
    {
     "cell_type": "code", 
     "collapsed": false, 
     "input": [
      "run 'testGetNextC.py'"
     ], 
     "language": "python", 
     "outputs": [
      {
       "output_type": "stream", 
       "stream": "stdout", 
       "text": [
        "", 
        "", 
        "", 
        "", 
        "", 
        "a:  8  b: 1"
       ]
      }
     ], 
     "prompt_number": 1
    }, 
    {
     "cell_type": "code", 
     "collapsed": false, 
     "input": [
      "run 'testCliqueTreeCalibrate.py'"
     ], 
     "language": "python", 
     "outputs": [
      {
       "output_type": "stream", 
       "stream": "stdout", 
       "text": [
        "(9, 9)", 
        "x:  0  y:  0", 
        "name: factor", 
        "var: ", 
        "card: ", 
        "val: ", 
        "x:  0  y:  1", 
        "name: factor", 
        "var: ", 
        "card: ", 
        "val: ", 
        "x:  0  y:  2", 
        "name: factor", 
        "var: ", 
        "card: ", 
        "val: ", 
        "x:  0  y:  3", 
        "name: factor", 
        "var: ", 
        "card: ", 
        "val: ", 
        "x:  0  y:  4", 
        "name: factor", 
        "var: ", 
        "card: ", 
        "val: ", 
        "x:  0  y:  5", 
        "name: factor", 
        "var: ", 
        "card: ", 
        "val: ", 
        "x:  0  y:  6", 
        "name: factor", 
        "var: ", 
        "card: ", 
        "val: ", 
        "x:  0  y:  7", 
        "name: None", 
        "var: 1", 
        "card: 3", 
        "val: 0.01 0.18 0.81", 
        "x:  0  y:  8", 
        "name: factor", 
        "var: ", 
        "card: ", 
        "val: ", 
        "==", 
        "", 
        "x:  1  y:  0", 
        "name: factor", 
        "var: ", 
        "card: ", 
        "val: ", 
        "x:  1  y:  1", 
        "name: factor", 
        "var: ", 
        "card: ", 
        "val: ", 
        "x:  1  y:  2", 
        "name: factor", 
        "var: ", 
        "card: ", 
        "val: ", 
        "x:  1  y:  3", 
        "name: factor", 
        "var: ", 
        "card: ", 
        "val: ", 
        "x:  1  y:  4", 
        "name: factor", 
        "var: ", 
        "card: ", 
        "val: ", 
        "x:  1  y:  5", 
        "name: factor", 
        "var: ", 
        "card: ", 
        "val: ", 
        "x:  1  y:  6", 
        "name: factor", 
        "var: ", 
        "card: ", 
        "val: ", 
        "x:  1  y:  7", 
        "name: factor", 
        "var: ", 
        "card: ", 
        "val: ", 
        "x:  1  y:  8", 
        "name: None", 
        "var: 2", 
        "card: 3", 
        "val: 0.333333333333 0.333333333333 0.333333333333", 
        "==", 
        "", 
        "x:  2  y:  0", 
        "name: factor", 
        "var: ", 
        "card: ", 
        "val: ", 
        "x:  2  y:  1", 
        "name: factor", 
        "var: ", 
        "card: ", 
        "val: ", 
        "x:  2  y:  2", 
        "name: factor", 
        "var: ", 
        "card: ", 
        "val: ", 
        "x:  2  y:  3", 
        "name: factor", 
        "var: ", 
        "card: ", 
        "val: ", 
        "x:  2  y:  4", 
        "name: factor", 
        "var: ", 
        "card: ", 
        "val: ", 
        "x:  2  y:  5", 
        "name: factor", 
        "var: ", 
        "card: ", 
        "val: ", 
        "x:  2  y:  6", 
        "name: factor", 
        "var: ", 
        "card: ", 
        "val: ", 
        "x:  2  y:  7", 
        "name: None", 
        "var: 3", 
        "card: 3", 
        "val: 0.01 0.18 0.81", 
        "x:  2  y:  8", 
        "name: factor", 
        "var: ", 
        "card: ", 
        "val: ", 
        "==", 
        "", 
        "x:  3  y:  0", 
        "name: factor", 
        "var: ", 
        "card: ", 
        "val: ", 
        "x:  3  y:  1", 
        "name: factor", 
        "var: ", 
        "card: ", 
        "val: ", 
        "x:  3  y:  2", 
        "name: factor", 
        "var: ", 
        "card: ", 
        "val: ", 
        "x:  3  y:  3", 
        "name: factor", 
        "var: ", 
        "card: ", 
        "val: ", 
        "x:  3  y:  4", 
        "name: factor", 
        "var: ", 
        "card: ", 
        "val: ", 
        "x:  3  y:  5", 
        "name: factor", 
        "var: ", 
        "card: ", 
        "val: ", 
        "x:  3  y:  6", 
        "name: None", 
        "var: 4", 
        "card: 3", 
        "val: 0.333333333333 0.333333333333 0.333333333333", 
        "x:  3  y:  7", 
        "name: factor", 
        "var: ", 
        "card: ", 
        "val: ", 
        "x:  3  y:  8", 
        "name: factor", 
        "var: ", 
        "card: ", 
        "val: ", 
        "==", 
        "", 
        "x:  4  y:  0", 
        "name: factor", 
        "var: ", 
        "card: ", 
        "val: ", 
        "x:  4  y:  1", 
        "name: factor", 
        "var: ", 
        "card: ", 
        "val: ", 
        "x:  4  y:  2", 
        "name: factor", 
        "var: ", 
        "card: ", 
        "val: ", 
        "x:  4  y:  3", 
        "name: factor", 
        "var: ", 
        "card: ", 
        "val: ", 
        "x:  4  y:  4", 
        "name: factor", 
        "var: ", 
        "card: ", 
        "val: ", 
        "x:  4  y:  5", 
        "name: factor", 
        "var: ", 
        "card: ", 
        "val: ", 
        "x:  4  y:  6", 
        "name: factor", 
        "var: ", 
        "card: ", 
        "val: ", 
        "x:  4  y:  7", 
        "name: factor", 
        "var: ", 
        "card: ", 
        "val: ", 
        "x:  4  y:  8", 
        "name: None", 
        "var: 5", 
        "card: 3", 
        "val: 0.333333333333 0.333333333333 0.333333333333", 
        "==", 
        "", 
        "x:  5  y:  0", 
        "name: factor", 
        "var: ", 
        "card: ", 
        "val: ", 
        "x:  5  y:  1", 
        "name: factor", 
        "var: ", 
        "card: ", 
        "val: ", 
        "x:  5  y:  2", 
        "name: factor", 
        "var: ", 
        "card: ", 
        "val: ", 
        "x:  5  y:  3", 
        "name: factor", 
        "var: ", 
        "card: ", 
        "val: ", 
        "x:  5  y:  4", 
        "name: factor", 
        "var: ", 
        "card: ", 
        "val: ", 
        "x:  5  y:  5", 
        "name: factor", 
        "var: ", 
        "card: ", 
        "val: ", 
        "x:  5  y:  6", 
        "name: factor", 
        "var: ", 
        "card: ", 
        "val: ", 
        "x:  5  y:  7", 
        "name: factor", 
        "var: ", 
        "card: ", 
        "val: ", 
        "x:  5  y:  8", 
        "name: None", 
        "var: 6", 
        "card: 3", 
        "val: 0.01 0.18 0.81", 
        "==", 
        "", 
        "x:  6  y:  0", 
        "name: factor", 
        "var: ", 
        "card: ", 
        "val: ", 
        "x:  6  y:  1", 
        "name: factor", 
        "var: ", 
        "card: ", 
        "val: ", 
        "x:  6  y:  2", 
        "name: factor", 
        "var: ", 
        "card: ", 
        "val: ", 
        "x:  6  y:  3", 
        "name: factor", 
        "var: ", 
        "card: ", 
        "val: ", 
        "x:  6  y:  4", 
        "name: factor", 
        "var: ", 
        "card: ", 
        "val: ", 
        "x:  6  y:  5", 
        "name: factor", 
        "var: ", 
        "card: ", 
        "val: ", 
        "x:  6  y:  6", 
        "name: factor", 
        "var: ", 
        "card: ", 
        "val: ", 
        "x:  6  y:  7", 
        "name: factor", 
        "var: ", 
        "card: ", 
        "val: ", 
        "x:  6  y:  8", 
        "name: factor", 
        "var: ", 
        "card: ", 
        "val: ", 
        "==", 
        "", 
        "x:  7  y:  0", 
        "name: factor", 
        "var: ", 
        "card: ", 
        "val: ", 
        "x:  7  y:  1", 
        "name: factor", 
        "var: ", 
        "card: ", 
        "val: ", 
        "x:  7  y:  2", 
        "name: factor", 
        "var: ", 
        "card: ", 
        "val: ", 
        "x:  7  y:  3", 
        "name: factor", 
        "var: ", 
        "card: ", 
        "val: ", 
        "x:  7  y:  4", 
        "name: factor", 
        "var: ", 
        "card: ", 
        "val: ", 
        "x:  7  y:  5", 
        "name: factor", 
        "var: ", 
        "card: ", 
        "val: ", 
        "x:  7  y:  6", 
        "name: factor", 
        "var: ", 
        "card: ", 
        "val: ", 
        "x:  7  y:  7", 
        "name: factor", 
        "var: ", 
        "card: ", 
        "val: ", 
        "x:  7  y:  8", 
        "name: factor", 
        "var: ", 
        "card: ", 
        "val: ", 
        "==", 
        "", 
        "x:  8  y:  0", 
        "name: factor", 
        "var: ", 
        "card: ", 
        "val: ", 
        "x:  8  y:  1", 
        "name: factor", 
        "var: ", 
        "card: ", 
        "val: ", 
        "x:  8  y:  2", 
        "name: factor", 
        "var: ", 
        "card: ", 
        "val: ", 
        "x:  8  y:  3", 
        "name: factor", 
        "var: ", 
        "card: ", 
        "val: ", 
        "x:  8  y:  4", 
        "name: factor", 
        "var: ", 
        "card: ", 
        "val: ", 
        "x:  8  y:  5", 
        "name: factor", 
        "var: ", 
        "card: ", 
        "val: ", 
        "x:  8  y:  6", 
        "name: factor", 
        "var: ", 
        "card: ", 
        "val: ", 
        "x:  8  y:  7", 
        "name: factor", 
        "var: ", 
        "card: ", 
        "val: ", 
        "x:  8  y:  8", 
        "name: factor", 
        "var: ", 
        "card: ", 
        "val: ", 
        "==", 
        ""
       ]
      }
     ], 
     "prompt_number": 1
    }, 
    {
     "cell_type": "code", 
     "collapsed": true, 
     "input": [], 
     "language": "python", 
     "outputs": []
    }
   ]
  }
 ]
}