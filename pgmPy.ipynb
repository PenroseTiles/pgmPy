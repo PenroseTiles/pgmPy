{
 "metadata": {
  "name": "pgmPy"
 }, 
 "nbformat": 2, 
 "worksheets": [
  {
   "cells": [
    {
     "cell_type": "code", 
     "collapsed": false, 
     "input": [
      "import numpy as np", 
      "from Factor import *", 
      "from FactorOperations import *", 
      "", 
      "", 
      "a=Factor([ 3, 1, 2], [ 2, 2, 2], [ 0, 0, 0, 0, 0, 0, 0, 0 ] )", 
      "b=Factor( [1], [2], [ .11, .89] )", 
      "c=Factor( [3,2], [2,2], [0.39, 0.61, 0.06, 0.94] )"
     ], 
     "language": "python", 
     "outputs": [], 
     "prompt_number": 1
    }, 
    {
     "cell_type": "code", 
     "collapsed": false, 
     "input": [
      "A=IndexToAssignment( np.arange(0, np.prod( a.getCard() )), a.getCard() )", 
      "B=IndexToAssignment( np.arange(0, np.prod( b.getCard() )), b.getCard() )", 
      "C=IndexToAssignment( np.arange(0, np.prod( c.getCard() )), c.getCard() )", 
      "", 
      "print A", 
      "#print B", 
      "#print C", 
      "", 
      "Ia=AssignmentToIndex(A, a.getCard() )", 
      "Ib=(AssignmentToIndex(B, b.getCard() ))", 
      "Ic=(AssignmentToIndex(C, c.getCard() ))", 
      "print Ia", 
      "#print Ia", 
      "#print Ic"
     ], 
     "language": "python", 
     "outputs": [
      {
       "output_type": "stream", 
       "stream": "stdout", 
       "text": [
        "[[ 1.  1.  1.]", 
        " [ 2.  1.  1.]", 
        " [ 1.  2.  1.]", 
        " [ 2.  2.  1.]", 
        " [ 1.  1.  2.]", 
        " [ 2.  1.  2.]", 
        " [ 1.  2.  2.]", 
        " [ 2.  2.  2.]]", 
        "[[ 1.]", 
        " [ 2.]", 
        " [ 3.]", 
        " [ 4.]", 
        " [ 5.]", 
        " [ 6.]", 
        " [ 7.]", 
        " [ 8.]]"
       ]
      }
     ], 
     "prompt_number": 2
    }, 
    {
     "cell_type": "code", 
     "collapsed": false, 
     "input": [
      "#print Ia", 
      "values=[-0.1241, 1.4897, 1.4090, 1.4172,0.6715,-1.2075, 0.7172, 1.6302]", 
      "values_b=[.89,.11]", 
      "values_c=[.94,.06,.61,.39]", 
      "print a", 
      "print b", 
      "print c"
     ], 
     "language": "python", 
     "outputs": [
      {
       "output_type": "stream", 
       "stream": "stdout", 
       "text": [
        "3 1 2", 
        "2 2 2", 
        "0 0 0 0 0 0 0 0", 
        "1", 
        "2", 
        "0.11 0.89", 
        "3 2", 
        "2 2", 
        "0.39 0.61 0.06 0.94"
       ]
      }
     ], 
     "prompt_number": 3
    }, 
    {
     "cell_type": "code", 
     "collapsed": true, 
     "input": [
      "SetValueOfAssignment(a,A,values)", 
      "SetValueOfAssignment(b,B, values_b)", 
      "SetValueOfAssignment(c,C, values_c)"
     ], 
     "language": "python", 
     "outputs": [], 
     "prompt_number": 4
    }, 
    {
     "cell_type": "code", 
     "collapsed": false, 
     "input": [
      "np.shape( GetValueOfAssignment(b,B) )", 
      "GetValueOfAssignment(a,A)"
     ], 
     "language": "python", 
     "outputs": [
      {
       "output_type": "pyout", 
       "prompt_number": 5, 
       "text": [
        "array([[-0.1241,  1.4897,  1.409 ,  1.4172,  0.6715, -1.2075,  0.7172,", 
        "         1.6302]])"
       ]
      }
     ], 
     "prompt_number": 5
    }, 
    {
     "cell_type": "code", 
     "collapsed": true, 
     "input": [], 
     "language": "python", 
     "outputs": [], 
     "prompt_number": 5
    }, 
    {
     "cell_type": "code", 
     "collapsed": false, 
     "input": [
      "print a", 
      "print b", 
      "print c"
     ], 
     "language": "python", 
     "outputs": [
      {
       "output_type": "stream", 
       "stream": "stdout", 
       "text": [
        "3 1 2", 
        "2 2 2", 
        "-0.1241 1.4897 1.409 1.4172 0.6715 -1.2075 0.7172 1.6302", 
        "1", 
        "2", 
        "0.89 0.11", 
        "3 2", 
        "2 2", 
        "0.94 0.06 0.61 0.39"
       ]
      }
     ], 
     "prompt_number": 6
    }, 
    {
     "cell_type": "code", 
     "collapsed": false, 
     "input": [
      "d=FactorProduct(a,b)"
     ], 
     "language": "python", 
     "outputs": [], 
     "prompt_number": 7
    }, 
    {
     "cell_type": "code", 
     "collapsed": false, 
     "input": [
      "print a, b, d"
     ], 
     "language": "python", 
     "outputs": [
      {
       "output_type": "stream", 
       "stream": "stdout", 
       "text": [
        "3 1 2", 
        "2 2 2", 
        "-0.1241 1.4897 1.409 1.4172 0.6715 -1.2075 0.7172 1.6302 1", 
        "2", 
        "0.89 0.11 1 2 3", 
        "2.0 2.0 2.0", 
        "-0.110449 0.15499 0.597635 0.078892 1.325833 0.155892 -1.074675 0.179322"
       ]
      }
     ], 
     "prompt_number": 8
    }, 
    {
     "cell_type": "code", 
     "collapsed": false, 
     "input": [
      "print d"
     ], 
     "language": "python", 
     "outputs": [
      {
       "output_type": "stream", 
       "stream": "stdout", 
       "text": [
        "1 2 3", 
        "2.0 2.0 2.0", 
        "-0.110449 0.15499 0.597635 0.078892 1.325833 0.155892 -1.074675 0.179322"
       ]
      }
     ], 
     "prompt_number": 9
    }, 
    {
     "cell_type": "code", 
     "collapsed": false, 
     "input": [
      "aMap=isMember(a.getVar(), d.getVar() )", 
      "bMap=isMember(b.getVar(), d.getVar() )"
     ], 
     "language": "python", 
     "outputs": [], 
     "prompt_number": 10
    }, 
    {
     "cell_type": "code", 
     "collapsed": false, 
     "input": [
      "print a.getVar()", 
      "print b.getVar()", 
      "print d.getVar()"
     ], 
     "language": "python", 
     "outputs": [
      {
       "output_type": "stream", 
       "stream": "stdout", 
       "text": [
        "[3 1 2]", 
        "[1]", 
        "[1 2 3]"
       ]
      }
     ], 
     "prompt_number": 11
    }, 
    {
     "cell_type": "code", 
     "collapsed": false, 
     "input": [
      "print aMap", 
      "print bMap"
     ], 
     "language": "python", 
     "outputs": [
      {
       "output_type": "stream", 
       "stream": "stdout", 
       "text": [
        "[2, 0, 1]", 
        "[0]"
       ]
      }
     ], 
     "prompt_number": 12
    }, 
    {
     "cell_type": "code", 
     "collapsed": true, 
     "input": [
      "d.setCard( np.zeros( len(d.getVar())).tolist() )"
     ], 
     "language": "python", 
     "outputs": [], 
     "prompt_number": 13
    }, 
    {
     "cell_type": "code", 
     "collapsed": false, 
     "input": [
      "print d"
     ], 
     "language": "python", 
     "outputs": [
      {
       "output_type": "stream", 
       "stream": "stdout", 
       "text": [
        "1 2 3", 
        "0.0 0.0 0.0", 
        "-0.110449 0.15499 0.597635 0.078892 1.325833 0.155892 -1.074675 0.179322"
       ]
      }
     ], 
     "prompt_number": 14
    }, 
    {
     "cell_type": "code", 
     "collapsed": false, 
     "input": [
      "d.getCard()[aMap]=a.getCard()", 
      "d.getCard()[bMap]=b.getCard()"
     ], 
     "language": "python", 
     "outputs": [], 
     "prompt_number": 15
    }, 
    {
     "cell_type": "code", 
     "collapsed": false, 
     "input": [
      "print d"
     ], 
     "language": "python", 
     "outputs": [
      {
       "output_type": "stream", 
       "stream": "stdout", 
       "text": [
        "1 2 3", 
        "2.0 2.0 2.0", 
        "-0.110449 0.15499 0.597635 0.078892 1.325833 0.155892 -1.074675 0.179322"
       ]
      }
     ], 
     "prompt_number": 16
    }, 
    {
     "cell_type": "code", 
     "collapsed": false, 
     "input": [
      "print a", 
      "print b", 
      "print d"
     ], 
     "language": "python", 
     "outputs": [
      {
       "output_type": "stream", 
       "stream": "stdout", 
       "text": [
        "3 1 2", 
        "2 2 2", 
        "-0.1241 1.4897 1.409 1.4172 0.6715 -1.2075 0.7172 1.6302", 
        "1", 
        "2", 
        "0.89 0.11", 
        "1 2 3", 
        "2.0 2.0 2.0", 
        "-0.110449 0.15499 0.597635 0.078892 1.325833 0.155892 -1.074675 0.179322"
       ]
      }
     ], 
     "prompt_number": 17
    }, 
    {
     "cell_type": "code", 
     "collapsed": false, 
     "input": [
      "d=FactorProduct(a,b)", 
      "print d"
     ], 
     "language": "python", 
     "outputs": [
      {
       "output_type": "stream", 
       "stream": "stdout", 
       "text": [
        "1 2 3", 
        "2.0 2.0 2.0", 
        "-0.110449 0.15499 0.597635 0.078892 1.325833 0.155892 -1.074675 0.179322"
       ]
      }
     ], 
     "prompt_number": 18
    }, 
    {
     "cell_type": "code", 
     "collapsed": false, 
     "input": [
      "d.setVal( np.zeros(np.prod(d.getCard())).tolist() )"
     ], 
     "language": "python", 
     "outputs": [], 
     "prompt_number": 19
    }, 
    {
     "cell_type": "code", 
     "collapsed": false, 
     "input": [
      "print d"
     ], 
     "language": "python", 
     "outputs": [
      {
       "output_type": "stream", 
       "stream": "stdout", 
       "text": [
        "1 2 3", 
        "2.0 2.0 2.0", 
        "0.0 0.0 0.0 0.0 0.0 0.0 0.0 0.0"
       ]
      }
     ], 
     "prompt_number": 20
    }, 
    {
     "cell_type": "code", 
     "collapsed": false, 
     "input": [
      "np.prod(d.getCard())"
     ], 
     "language": "python", 
     "outputs": [
      {
       "output_type": "pyout", 
       "prompt_number": 21, 
       "text": [
        "8.0"
       ]
      }
     ], 
     "prompt_number": 21
    }, 
    {
     "cell_type": "code", 
     "collapsed": false, 
     "input": [
      "assignments=IndexToAssignment( np.arange(np.prod(d.getCard())), d.getCard() )"
     ], 
     "language": "python", 
     "outputs": [], 
     "prompt_number": 22
    }, 
    {
     "cell_type": "code", 
     "collapsed": false, 
     "input": [
      "print assignments"
     ], 
     "language": "python", 
     "outputs": [
      {
       "output_type": "stream", 
       "stream": "stdout", 
       "text": [
        "[[ 1.  1.  1.]", 
        " [ 2.  1.  1.]", 
        " [ 1.  2.  1.]", 
        " [ 2.  2.  1.]", 
        " [ 1.  1.  2.]", 
        " [ 2.  1.  2.]", 
        " [ 1.  2.  2.]", 
        " [ 2.  2.  2.]]"
       ]
      }
     ], 
     "prompt_number": 23
    }, 
    {
     "cell_type": "code", 
     "collapsed": false, 
     "input": [
      "print Ia"
     ], 
     "language": "python", 
     "outputs": [
      {
       "output_type": "stream", 
       "stream": "stdout", 
       "text": [
        "[[ 1.]", 
        " [ 2.]", 
        " [ 3.]", 
        " [ 4.]", 
        " [ 5.]", 
        " [ 6.]", 
        " [ 7.]", 
        " [ 8.]]"
       ]
      }
     ], 
     "prompt_number": 24
    }, 
    {
     "cell_type": "code", 
     "collapsed": false, 
     "input": [
      "print aMap"
     ], 
     "language": "python", 
     "outputs": [
      {
       "output_type": "stream", 
       "stream": "stdout", 
       "text": [
        "[2, 0, 1]"
       ]
      }
     ], 
     "prompt_number": 25
    }, 
    {
     "cell_type": "code", 
     "collapsed": false, 
     "input": [
      "#print assignments", 
      "indxA=AssignmentToIndex(  assignments[:,aMap], a.getCard())-1", 
      "indxB=AssignmentToIndex(  assignments[:,bMap], b.getCard())-1"
     ], 
     "language": "python", 
     "outputs": [], 
     "prompt_number": 26
    }, 
    {
     "cell_type": "code", 
     "collapsed": false, 
     "input": [
      "print assignments"
     ], 
     "language": "python", 
     "outputs": [
      {
       "output_type": "stream", 
       "stream": "stdout", 
       "text": [
        "[[ 1.  1.  1.]", 
        " [ 2.  1.  1.]", 
        " [ 1.  2.  1.]", 
        " [ 2.  2.  1.]", 
        " [ 1.  1.  2.]", 
        " [ 2.  1.  2.]", 
        " [ 1.  2.  2.]", 
        " [ 2.  2.  2.]]"
       ]
      }
     ], 
     "prompt_number": 27
    }, 
    {
     "cell_type": "code", 
     "collapsed": false, 
     "input": [
      "print a", 
      "print b"
     ], 
     "language": "python", 
     "outputs": [
      {
       "output_type": "stream", 
       "stream": "stdout", 
       "text": [
        "3 1 2", 
        "2 2 2", 
        "-0.1241 1.4897 1.409 1.4172 0.6715 -1.2075 0.7172 1.6302", 
        "1", 
        "2", 
        "0.89 0.11"
       ]
      }
     ], 
     "prompt_number": 28
    }, 
    {
     "cell_type": "code", 
     "collapsed": false, 
     "input": [
      "print indxA", 
      "print indxB"
     ], 
     "language": "python", 
     "outputs": [
      {
       "output_type": "stream", 
       "stream": "stdout", 
       "text": [
        "[[ 0.]", 
        " [ 2.]", 
        " [ 4.]", 
        " [ 6.]", 
        " [ 1.]", 
        " [ 3.]", 
        " [ 5.]", 
        " [ 7.]]", 
        "[[ 0.]", 
        " [ 1.]", 
        " [ 0.]", 
        " [ 1.]", 
        " [ 0.]", 
        " [ 1.]", 
        " [ 0.]", 
        " [ 1.]]"
       ]
      }
     ], 
     "prompt_number": 29
    }, 
    {
     "cell_type": "code", 
     "collapsed": false, 
     "input": [
      "d_val=a.getVal()[indxA.flatten().tolist()] * b.getVal()[indxB.flatten().tolist()]"
     ], 
     "language": "python", 
     "outputs": [], 
     "prompt_number": 30
    }, 
    {
     "cell_type": "code", 
     "collapsed": false, 
     "input": [
      "print d_val"
     ], 
     "language": "python", 
     "outputs": [
      {
       "output_type": "stream", 
       "stream": "stdout", 
       "text": [
        "[-0.110449  0.15499   0.597635  0.078892  1.325833  0.155892 -1.074675", 
        "  0.179322]"
       ]
      }
     ], 
     "prompt_number": 31
    }, 
    {
     "cell_type": "code", 
     "collapsed": false, 
     "input": [
      "d_val"
     ], 
     "language": "python", 
     "outputs": [
      {
       "output_type": "pyout", 
       "prompt_number": 32, 
       "text": [
        "array([-0.110449,  0.15499 ,  0.597635,  0.078892,  1.325833,  0.155892,", 
        "       -1.074675,  0.179322])"
       ]
      }
     ], 
     "prompt_number": 32
    }, 
    {
     "cell_type": "code", 
     "collapsed": false, 
     "input": [
      "print a", 
      "print \"==\"", 
      "print b", 
      "print \"==\"", 
      "print d", 
      "print \"==\"", 
      "d=FactorProduct(a,b)", 
      "print d"
     ], 
     "language": "python", 
     "outputs": [
      {
       "output_type": "stream", 
       "stream": "stdout", 
       "text": [
        "3 1 2", 
        "2 2 2", 
        "-0.1241 1.4897 1.409 1.4172 0.6715 -1.2075 0.7172 1.6302", 
        "==", 
        "1", 
        "2", 
        "0.89 0.11", 
        "==", 
        "1 2 3", 
        "2.0 2.0 2.0", 
        "-0.110449 0.15499 0.597635 0.078892 1.325833 0.155892 -1.074675 0.179322", 
        "==", 
        "1 2 3", 
        "2.0 2.0 2.0", 
        "-0.110449 0.15499 0.597635 0.078892 1.325833 0.155892 -1.074675 0.179322"
       ]
      }
     ], 
     "prompt_number": 36
    }, 
    {
     "cell_type": "code", 
     "collapsed": true, 
     "input": [], 
     "language": "python", 
     "outputs": []
    }
   ]
  }
 ]
}