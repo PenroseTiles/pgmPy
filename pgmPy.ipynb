{
 "metadata": {
  "name": "pgmPy"
 }, 
 "nbformat": 2, 
 "worksheets": [
  {
   "cells": [
    {
     "cell_type": "code", 
     "collapsed": false, 
     "input": [
      "import numpy as np", 
      "from Factor import *", 
      "from FactorOperations import *", 
      "", 
      "", 
      "a=Factor([ 3, 1, 2], [ 2, 2, 2], [ 0, 0, 0, 0, 0, 0, 0, 0 ] )", 
      "b=Factor( [1], [2], [ .11, .89] )", 
      "c=Factor( [3,2], [2,2], [0.39, 0.61, 0.06, 0.94] )", 
      ""
     ], 
     "language": "python", 
     "outputs": [], 
     "prompt_number": 1
    }, 
    {
     "cell_type": "code", 
     "collapsed": false, 
     "input": [
      "A=IndexToAssignment( np.arange(0, np.prod( a.getCard() )), a.getCard() )", 
      "B=IndexToAssignment( np.arange(0, np.prod( b.getCard() )), b.getCard() )", 
      "C=IndexToAssignment( np.arange(0, np.prod( c.getCard() )), c.getCard() )", 
      "", 
      "print A", 
      "#print B", 
      "#print C", 
      "", 
      "Ia=(AssignmentToIndex(A, a.getCard() ))", 
      "Ib=(AssignmentToIndex(B, b.getCard() ))", 
      "Ic=(AssignmentToIndex(C, c.getCard() ))", 
      "", 
      "#print Ia", 
      "#print Ic"
     ], 
     "language": "python", 
     "outputs": [
      {
       "output_type": "stream", 
       "stream": "stdout", 
       "text": [
        "[[ 1.  1.  1.]", 
        " [ 2.  1.  1.]", 
        " [ 1.  2.  1.]", 
        " [ 2.  2.  1.]", 
        " [ 1.  1.  2.]", 
        " [ 2.  1.  2.]", 
        " [ 1.  2.  2.]", 
        " [ 2.  2.  2.]]"
       ]
      }
     ], 
     "prompt_number": 2
    }, 
    {
     "cell_type": "code", 
     "collapsed": false, 
     "input": [
      "#print Ia", 
      "values=[-0.1241, 1.4897, 1.4090, 1.4172,0.6715,-1.2075, 0.7172, 1.6302]", 
      "values_b=[.89,.11]", 
      "values_c=[.94,.06,.61,.39]", 
      "print a", 
      "print b", 
      "print c"
     ], 
     "language": "python", 
     "outputs": [
      {
       "output_type": "stream", 
       "stream": "stdout", 
       "text": [
        "3 1 2", 
        "2 2 2", 
        "0 0 0 0 0 0 0 0", 
        "1", 
        "2", 
        "0.11 0.89", 
        "3 2", 
        "2 2", 
        "0.39 0.61 0.06 0.94"
       ]
      }
     ], 
     "prompt_number": 3
    }, 
    {
     "cell_type": "code", 
     "collapsed": false, 
     "input": [
      "SetValueOfAssignment(a,A,values)", 
      "SetValueOfAssignment(b,B, values_b)", 
      "SetValueOfAssignment(c,C, values_c)"
     ], 
     "language": "python", 
     "outputs": [], 
     "prompt_number": 4
    }, 
    {
     "cell_type": "code", 
     "collapsed": false, 
     "input": [
      "print b", 
      "print c"
     ], 
     "language": "python", 
     "outputs": [
      {
       "output_type": "stream", 
       "stream": "stdout", 
       "text": [
        "1", 
        "2", 
        "0.89 0.11", 
        "3 2", 
        "2 2", 
        "0.94 0.06 0.61 0.39"
       ]
      }
     ], 
     "prompt_number": 5
    }, 
    {
     "cell_type": "code", 
     "collapsed": false, 
     "input": [
      "B"
     ], 
     "language": "python", 
     "outputs": [
      {
       "output_type": "pyout", 
       "prompt_number": 6, 
       "text": [
        "array([[ 1.],", 
        "       [ 2.]])"
       ]
      }
     ], 
     "prompt_number": 6
    }, 
    {
     "cell_type": "code", 
     "collapsed": false, 
     "input": [
      "np.shape( GetValueOfAssignment(b,B) )", 
      "GetValueOfAssignment(a,A)"
     ], 
     "language": "python", 
     "outputs": [
      {
       "output_type": "pyout", 
       "prompt_number": 8, 
       "text": [
        "array([[-0.1241,  1.4897,  1.409 ,  1.4172,  0.6715, -1.2075,  0.7172,", 
        "         1.6302]])"
       ]
      }
     ], 
     "prompt_number": 8
    }, 
    {
     "cell_type": "code", 
     "collapsed": true, 
     "input": [], 
     "language": "python", 
     "outputs": []
    }
   ]
  }
 ]
}