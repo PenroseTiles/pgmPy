{
 "metadata": {
  "name": "indexToAssignment"
 }, 
 "nbformat": 2, 
 "worksheets": [
  {
   "cells": [
    {
     "cell_type": "code", 
     "collapsed": true, 
     "input": [
      "import numpy as np", 
      "from Factor import *", 
      "from FactorOperations import *", 
      "", 
      "", 
      "a=Factor([ 3, 1, 2], [ 2, 2, 2], [ 0, 0, 0, 0, 0, 0, 0, 0 ] )", 
      "b=Factor( [1], [2], [ .11, .89] )", 
      "c=Factor( [3,2], [2,2], [0.39, 0.61, 0.06, 0.94] )", 
      "", 
      ""
     ], 
     "language": "python", 
     "outputs": [], 
     "prompt_number": 1
    }, 
    {
     "cell_type": "code", 
     "collapsed": false, 
     "input": [
      "A=IndexToAssignment( np.arange(0, np.prod( a.getCard() )), a.getCard() )", 
      "B=IndexToAssignment( np.arange(0, np.prod( b.getCard() )), b.getCard() )", 
      "C=IndexToAssignment( np.arange(0, np.prod( c.getCard() )), c.getCard() )", 
      "", 
      "print A", 
      "#print B", 
      "#print C", 
      "", 
      "Ia=(AssignmentToIndex(A, a.getCard() ))", 
      "Ib=(AssignmentToIndex(B, b.getCard() ))", 
      "Ic=(AssignmentToIndex(C, c.getCard() ))", 
      "", 
      "#print Ia", 
      "#print Ic"
     ], 
     "language": "python", 
     "outputs": [
      {
       "output_type": "stream", 
       "stream": "stdout", 
       "text": [
        "[[ 1.  1.  1.]", 
        " [ 2.  1.  1.]", 
        " [ 1.  2.  1.]", 
        " [ 2.  2.  1.]", 
        " [ 1.  1.  2.]", 
        " [ 2.  1.  2.]", 
        " [ 1.  2.  2.]", 
        " [ 2.  2.  2.]]"
       ]
      }
     ], 
     "prompt_number": 2
    }, 
    {
     "cell_type": "code", 
     "collapsed": false, 
     "input": [
      "print Ia", 
      "values=[-0.1241, 1.4897, 1.4090, 1.4172,0.6715,-1.2075, 0.7172, 1.6302]"
     ], 
     "language": "python", 
     "outputs": [
      {
       "output_type": "stream", 
       "stream": "stdout", 
       "text": [
        "[[ 1.]", 
        " [ 2.]", 
        " [ 3.]", 
        " [ 4.]", 
        " [ 5.]", 
        " [ 6.]", 
        " [ 7.]", 
        " [ 8.]]"
       ]
      }
     ], 
     "prompt_number": 3
    }, 
    {
     "cell_type": "code", 
     "collapsed": true, 
     "input": [
      "zeros=np.zeros(len(Ia))"
     ], 
     "language": "python", 
     "outputs": [], 
     "prompt_number": 4
    }, 
    {
     "cell_type": "code", 
     "collapsed": false, 
     "input": [
      "print zeros"
     ], 
     "language": "python", 
     "outputs": [
      {
       "output_type": "stream", 
       "stream": "stdout", 
       "text": [
        "[ 0.  0.  0.  0.  0.  0.  0.  0.]"
       ]
      }
     ], 
     "prompt_number": 5
    }, 
    {
     "cell_type": "code", 
     "collapsed": true, 
     "input": [
      "indices=np.array(Ia-1).flatten().tolist()"
     ], 
     "language": "python", 
     "outputs": [], 
     "prompt_number": 6
    }, 
    {
     "cell_type": "code", 
     "collapsed": false, 
     "input": [
      "zeros[indices]=values"
     ], 
     "language": "python", 
     "outputs": [], 
     "prompt_number": 7
    }, 
    {
     "cell_type": "code", 
     "collapsed": false, 
     "input": [
      "zeros.tolist()"
     ], 
     "language": "python", 
     "outputs": [
      {
       "output_type": "pyout", 
       "prompt_number": 8, 
       "text": [
        "[-0.1241, 1.4897, 1.409, 1.4172, 0.6715, -1.2075, 0.7172, 1.6302]"
       ]
      }
     ], 
     "prompt_number": 8
    }, 
    {
     "cell_type": "code", 
     "collapsed": false, 
     "input": [
      "values"
     ], 
     "language": "python", 
     "outputs": [
      {
       "output_type": "pyout", 
       "prompt_number": 9, 
       "text": [
        "[-0.1241, 1.4897, 1.409, 1.4172, 0.6715, -1.2075, 0.7172, 1.6302]"
       ]
      }
     ], 
     "prompt_number": 9
    }, 
    {
     "cell_type": "code", 
     "collapsed": false, 
     "input": [
      "SetValueOfAssignment(a,A,values)"
     ], 
     "language": "python", 
     "outputs": [], 
     "prompt_number": 10
    }, 
    {
     "cell_type": "code", 
     "collapsed": false, 
     "input": [
      "print a"
     ], 
     "language": "python", 
     "outputs": [
      {
       "output_type": "stream", 
       "stream": "stdout", 
       "text": [
        "3 1 2", 
        "2 2 2", 
        "-0.1241 1.4897 1.409 1.4172 0.6715 -1.2075 0.7172 1.6302"
       ]
      }
     ], 
     "prompt_number": 11
    }, 
    {
     "cell_type": "code", 
     "collapsed": true, 
     "input": [], 
     "language": "python", 
     "outputs": []
    }
   ]
  }
 ]
}